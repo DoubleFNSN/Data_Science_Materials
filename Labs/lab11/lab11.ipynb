{
 "cells": [
  {
   "cell_type": "markdown",
   "metadata": {
    "nbgrader": {
     "grade": false,
     "grade_id": "intro",
     "locked": true,
     "schema_version": 2,
     "solution": false
    }
   },
   "source": [
    "# Lab 11: SQL, FEC Data, and Small Donors\n",
    "\n",
    "## Due: 11:59pm Wednesday 14th\n",
    "\n",
    "\n",
    "In this lab, we explore the money donated during the 2016 election using the [Federal Election\n",
    "Commission's public records](http://www.fec.gov/finance/disclosure/ftpdet.shtml). "
   ]
  },
  {
   "cell_type": "code",
   "execution_count": null,
   "metadata": {
    "nbgrader": {
     "grade": false,
     "grade_id": "imports",
     "locked": true,
     "schema_version": 2,
     "solution": false
    },
    "tags": [
     "solution"
    ]
   },
   "outputs": [],
   "source": [
    "import pandas as pd\n",
    "import numpy as np\n",
    "import re\n",
    "import sqlalchemy"
   ]
  },
  {
   "cell_type": "markdown",
   "metadata": {
    "nbgrader": {
     "grade": false,
     "grade_id": "start",
     "locked": true,
     "schema_version": 2,
     "solution": false
    }
   },
   "source": [
    "## Getting Started\n",
    "\n",
    "For this assignment, you will be connecting to a sqlite database containing the data. The data we will be working with in this lab is quite small (16MB); however, it's taken from a larger database that more than few GBs!"
   ]
  },
  {
   "cell_type": "markdown",
   "metadata": {
    "nbgrader": {
     "grade": false,
     "grade_id": "start2",
     "locked": true,
     "schema_version": 2,
     "solution": false
    }
   },
   "source": [
    "### Connecting to the SQLite"
   ]
  },
  {
   "cell_type": "code",
   "execution_count": null,
   "metadata": {},
   "outputs": [],
   "source": [
    "DB_LOCATION = '/tmp/fec_nyc.sqlite'"
   ]
  },
  {
   "cell_type": "markdown",
   "metadata": {},
   "source": [
    "The following cell with get the database and verifies it exists."
   ]
  },
  {
   "cell_type": "code",
   "execution_count": null,
   "metadata": {},
   "outputs": [],
   "source": [
    "!wget https://s3.amazonaws.com/berkeley-ds100/fec_nyc.sqlite\n",
    "!mv fec_nyc.sqlite $DB_LOCATION\n",
    "!ls -lh $DB_LOCATION"
   ]
  },
  {
   "cell_type": "markdown",
   "metadata": {
    "nbgrader": {
     "grade": false,
     "grade_id": "connect_to_db_inst",
     "locked": true,
     "schema_version": 2,
     "solution": false
    }
   },
   "source": [
    "The following cell will connect to the above database using the SQL Alchemy library."
   ]
  },
  {
   "cell_type": "code",
   "execution_count": null,
   "metadata": {
    "nbgrader": {
     "grade": false,
     "grade_id": "set_engine",
     "locked": true,
     "schema_version": 2,
     "solution": false
    }
   },
   "outputs": [],
   "source": [
    "engine = sqlalchemy.create_engine(f\"sqlite:///{DB_LOCATION}\")\n",
    "connection = engine.connect()"
   ]
  },
  {
   "cell_type": "markdown",
   "metadata": {
    "nbgrader": {
     "grade": false,
     "grade_id": "list-tables-inst",
     "locked": true,
     "schema_version": 2,
     "solution": false
    }
   },
   "source": [
    "To check that everything is working we will list the available tables."
   ]
  },
  {
   "cell_type": "code",
   "execution_count": null,
   "metadata": {
    "nbgrader": {
     "grade": false,
     "grade_id": "list-tables",
     "locked": true,
     "schema_version": 2,
     "solution": false
    }
   },
   "outputs": [],
   "source": [
    "engine.table_names()"
   ]
  },
  {
   "cell_type": "markdown",
   "metadata": {
    "nbgrader": {
     "grade": false,
     "grade_id": "tables",
     "locked": true,
     "schema_version": 2,
     "solution": false
    }
   },
   "source": [
    "## Table Descriptions\n",
    "\n",
    "Here is a list of the tables in the database.  Each table links to the documentation on the [FEC page](http://www.fec.gov/finance/disclosure/ftpdet.shtml) for the dataset.\n",
    "\n",
    "Note that the table names here are slightly different from the ones in lecture. Consult the FEC page\n",
    "for the descriptions of the tables to find out what the correspondence is.\n",
    "\n",
    "- [`cand`](http://www.fec.gov/finance/disclosure/metadata/DataDictionaryCandidateMaster.shtml): Candidates table. Contains names and party affiliation.\n",
    "- [`comm`](http://www.fec.gov/finance/disclosure/metadata/DataDictionaryCommitteeMaster.shtml): Committees table. Contains committee names and types.\n",
    "- [`indiv_sample_nyc`](http://www.fec.gov/finance/disclosure/metadata/DataDictionaryContributionsbyIndividuals.shtml): All individual contributions from New York City.\n"
   ]
  },
  {
   "cell_type": "code",
   "execution_count": null,
   "metadata": {
    "nbgrader": {
     "grade": false,
     "grade_id": "example-code",
     "locked": true,
     "schema_version": 2,
     "solution": false
    }
   },
   "outputs": [],
   "source": [
    "# We use `LIMIT 5` to avoid displaying a huge table.\n",
    "# Although our tables shouldn't get too large to display,\n",
    "# this is generally good practice when working in the\n",
    "# notebook environment.  Jupyter notebooks don't handle\n",
    "# very large outputs well. \n",
    "query = \"\"\"\n",
    "SELECT * from indiv_sample_nyc LIMIT 5\n",
    "\"\"\"\n",
    "pd.read_sql(query, engine)"
   ]
  },
  {
   "cell_type": "code",
   "execution_count": null,
   "metadata": {
    "nbgrader": {
     "grade": false,
     "grade_id": "longer_query_code",
     "locked": true,
     "schema_version": 2,
     "solution": false
    }
   },
   "outputs": [],
   "source": [
    "query = '''\n",
    "SELECT cand_id, cand_name\n",
    "FROM cand\n",
    "WHERE cand_pty_affiliation = 'DEM'\n",
    "LIMIT 5\n",
    "'''\n",
    "pd.read_sql(query,engine)"
   ]
  },
  {
   "cell_type": "markdown",
   "metadata": {
    "nbgrader": {
     "grade": false,
     "grade_id": "assign",
     "locked": true,
     "schema_version": 2,
     "solution": false
    }
   },
   "source": [
    "### Notes on Grading \n",
    "\n",
    "1. For this lab, we will be grading your SQL expressions so be sure to do all computation in SQL (unless otherwise requested).  \n",
    "1. Use the query string variable we provide since we will be analyzing your SQL query strings."
   ]
  },
  {
   "cell_type": "markdown",
   "metadata": {},
   "source": [
    "### Question 1: Donation Amount"
   ]
  },
  {
   "cell_type": "markdown",
   "metadata": {
    "nbgrader": {
     "grade": false,
     "grade_id": "q1a",
     "locked": true,
     "schema_version": 2,
     "solution": false
    }
   },
   "source": [
    "### Question 1a\n",
    "\n",
    "We are interested in finding the individuals from New York City that donated large sums. To begin to answer this question, we will look at the `indiv_sample_nyc` table. We'll find all the transactions that exceed \\$5,000,000. However, if there are a lot of transactions like that, it might not be useful to list them all.  So before actually finding the transactions, _find out how many such transactions there are_. Use only SQL to compute the answer.\n",
    "\n",
    "(It should be a table with a single column called **`count`** and a single entry, the number of transactions.)  \n",
    "\n",
    "We will be grading the query string `query_q1a`.  You may modify our template but the result should contain the same information with the same names.\n",
    "\n",
    "**In this question, and in the following ones, we will only be grading the output of** `pd.read_sql(query_qXX, engine)`.  \n",
    "**Make sure that the output of this query matches what you want (order, column names, etc...)**"
   ]
  },
  {
   "cell_type": "code",
   "execution_count": null,
   "metadata": {
    "for_assignment_type": "student",
    "nbgrader": {
     "grade": false,
     "grade_id": "q1a-answer",
     "locked": false,
     "schema_version": 2,
     "solution": true
    },
    "tags": [
     "student"
    ]
   },
   "outputs": [],
   "source": [
    "# complete the query string\n",
    "query_q1a = \"\"\"\n",
    "SELECT ...\n",
    "FROM ...\n",
    "WHERE ...\n",
    "\"\"\"\n",
    "\n",
    "### BEGIN SOLUTION\n",
    "query_q1a = '''\n",
    "SELECT count(*) as count\n",
    "FROM indiv_sample_nyc\n",
    "WHERE transaction_amt > 5000000\n",
    "'''\n",
    "\n",
    "### END SOLUTION\n",
    "pd.read_sql(query_q1a, engine)"
   ]
  },
  {
   "cell_type": "code",
   "execution_count": null,
   "metadata": {
    "nbgrader": {
     "grade": true,
     "grade_id": "q1a-tests",
     "locked": true,
     "points": 1,
     "schema_version": 2,
     "solution": false
    },
    "tags": [
     "q01a",
     "test"
    ]
   },
   "outputs": [],
   "source": [
    "res = pd.read_sql(query_q1a,engine)\n",
    "assert len(res) == 1\n",
    "assert res.columns == ['count']\n",
    "\n",
    "assert res[\"count\"][0] == 6"
   ]
  },
  {
   "cell_type": "markdown",
   "metadata": {
    "nbgrader": {
     "grade": false,
     "grade_id": "q1b",
     "locked": true,
     "schema_version": 2,
     "solution": false
    }
   },
   "source": [
    "### Question 1b\n",
    "Having seen that there aren't too many transactions that exceed 100,000 dollars, let's find them all.  Using only SQL, construct a table containing the committee ID, contributor's name, and the transaction amount, for transactions that exceed \\$ 100,000 dollars.  Sort the transactions in decreasing order by amount. If two contributors contain the same transaction amount, sort by alphabetical order of their names.\n",
    "\n",
    "We will be grading the query string `query_q1b`.  You may modify our template but the result should contain the same information with the same names.\n",
    "\n",
    "The output should similar to the following:\n",
    "\n",
    "<table border=\"1\" class=\"dataframe\">\n",
    "  <thead>\n",
    "    <tr style=\"text-align: right;\">\n",
    "      <th></th>\n",
    "      <th>committee_id</th>\n",
    "      <th>name</th>\n",
    "      <th>transaction_amt</th>\n",
    "    </tr>\n",
    "  </thead>\n",
    "  <tbody>\n",
    "    <tr>\n",
    "      <th>0</th>\n",
    "      <td>C00010603</td>\n",
    "      <td>HILLARY VICTORY FUND</td>\n",
    "      <td>23787000</td>\n",
    "    </tr>\n",
    "    <tr>\n",
    "      <th>1</th>\n",
    "      <td>C00571372</td>\n",
    "      <td>C.V. STARR &amp; CO INC</td>\n",
    "      <td>10000000</td>\n",
    "    </tr>\n",
    "    <tr>\n",
    "      <th>2</th>\n",
    "      <td>C00580100</td>\n",
    "      <td>TRUMP, DONALD J.</td>\n",
    "      <td>10000000</td>\n",
    "    </tr>\n",
    "    <tr>\n",
    "      <th>3</th>\n",
    "      <td>C00532705</td>\n",
    "      <td>BLOOMBERG, MICHAEL R.</td>\n",
    "      <td>8500000</td>\n",
    "    </tr>\n",
    "    <tr>\n",
    "      <th>4</th>\n",
    "      <td>C00010603</td>\n",
    "      <td>HILLARY VICTORY FUND</td>\n",
    "      <td>6175000</td>\n",
    "    </tr>\n",
    "    <tr>\n",
    "      <th>5</th>\n",
    "      <td>C00495861</td>\n",
    "      <td>SOROS, GEORGE</td>\n",
    "      <td>6000000</td>\n",
    "    </tr>\n",
    "  </tbody>\n",
    "</table>"
   ]
  },
  {
   "cell_type": "code",
   "execution_count": null,
   "metadata": {
    "for_assignment_type": "student",
    "nbgrader": {
     "grade": false,
     "grade_id": "q1b-answer",
     "locked": false,
     "schema_version": 2,
     "solution": true
    },
    "tags": [
     "student"
    ]
   },
   "outputs": [],
   "source": [
    "# complete the query string\n",
    "query_q1b = \"\"\"\n",
    "SELECT \n",
    "    ... AS committee_id,\n",
    "    ... AS name,\n",
    "    ... AS transaction_amt\n",
    "FROM ...\n",
    "WHERE ...\n",
    "ORDER BY ...\n",
    "\"\"\"\n",
    "\n",
    "### BEGIN SOLUTION\n",
    "query_q1b = '''\n",
    "SELECT \n",
    "    cmte_id AS committee_id, \n",
    "    name AS name,\n",
    "    transaction_amt AS transaction_amt\n",
    "FROM indiv_sample_nyc\n",
    "WHERE transaction_amt > 5000000\n",
    "ORDER BY transaction_amt DESC, name\n",
    "'''\n",
    "### END SOLUTION\n",
    "pd.read_sql(query_q1b, engine)"
   ]
  },
  {
   "cell_type": "code",
   "execution_count": null,
   "metadata": {
    "nbgrader": {
     "grade": true,
     "grade_id": "q1b-tests",
     "locked": true,
     "points": 1,
     "schema_version": 2,
     "solution": false
    },
    "tags": [
     "test",
     "q01b"
    ]
   },
   "outputs": [],
   "source": [
    "res = pd.read_sql(query_q1b, engine)\n",
    "assert res.shape == (6, 3)\n",
    "assert set(res.columns) == set(['committee_id', 'name', 'transaction_amt'])\n",
    "assert all(res == res.sort_values('transaction_amt', ascending=False))\n",
    "\n",
    "assert set(res['name'].unique()) == set(['HILLARY VICTORY FUND', 'C.V. STARR & CO INC', 'TRUMP, DONALD J.',\n",
    "       'BLOOMBERG, MICHAEL R.', 'SOROS, GEORGE'])"
   ]
  },
  {
   "cell_type": "markdown",
   "metadata": {
    "nbgrader": {
     "grade": false,
     "grade_id": "q1c",
     "locked": true,
     "schema_version": 2,
     "solution": false
    }
   },
   "source": [
    "### Question 1c\n",
    "\n",
    "Of course, only looking at individual transactions could be misleading, since each contributor can make several transactions. A more interesting question is: How much did each contributor give *in total*?  Find the total transaction amounts after grouping by the name.  This time, just use `LIMIT 20` to limit your results to the top 20 total donations. Sort the results in descending order by total contribution amount. Break ties by alphabetical order of name as in the previous question.\n",
    "\n",
    "We will be grading the query string `query_q1c`.  You may modify our template but the result should contain the same information with the same names.\n",
    "\n",
    "The output should look something like: \n",
    "\n",
    "\n",
    "<table border=\"1\" class=\"dataframe\">\n",
    "  <thead>\n",
    "    <tr style=\"text-align: right;\">\n",
    "      <th></th>\n",
    "      <th>name</th>\n",
    "      <th>total_transaction_amt</th>\n",
    "    </tr>\n",
    "  </thead>\n",
    "  <tbody>\n",
    "    <tr>\n",
    "      <th>0</th>\n",
    "      <td>HILLARY VICTORY FUND</td>\n",
    "      <td>35379700</td>\n",
    "    </tr>\n",
    "    <tr>\n",
    "      <th>1</th>\n",
    "      <td>SOROS, GEORGE</td>\n",
    "      <td>22359611</td>\n",
    "    </tr>\n",
    "    <tr>\n",
    "      <th>2</th>\n",
    "      <td>BLOOMBERG, MICHAEL R.</td>\n",
    "      <td>21675924</td>\n",
    "    </tr>\n",
    "    <tr>\n",
    "      <th>3</th>\n",
    "      <td>TRUMP, DONALD J.</td>\n",
    "      <td>18638557</td>\n",
    "    </tr>\n",
    "    <tr>\n",
    "      <th>4</th>\n",
    "      <td>SIMONS, JAMES H.</td>\n",
    "      <td>11345900</td>\n",
    "    </tr>\n",
    "    <tr>\n",
    "      <th>5</th>\n",
    "      <td>SIMONS, JAMES</td>\n",
    "      <td>11059000</td>\n",
    "    </tr>\n",
    "    <tr>\n",
    "      <th>6</th>\n",
    "      <td>C.V. STARR &amp; CO INC</td>\n",
    "      <td>10000000</td>\n",
    "    </tr>\n",
    "    <tr>\n",
    "      <th>7</th>\n",
    "      <td>SINGER, PAUL</td>\n",
    "      <td>9379453</td>\n",
    "    </tr>\n",
    "    <tr>\n",
    "      <th>8</th>\n",
    "      <td>SINGER, PAUL ELLIOT</td>\n",
    "      <td>7400000</td>\n",
    "    </tr>\n",
    "    <tr>\n",
    "      <th>9</th>\n",
    "      <td>SHAW, DAVID E.</td>\n",
    "      <td>5369500</td>\n",
    "    </tr>\n",
    "    <tr>\n",
    "      <th>10</th>\n",
    "      <td>HILLARY ACTION FUND</td>\n",
    "      <td>4950000</td>\n",
    "    </tr>\n",
    "    <tr>\n",
    "      <th>11</th>\n",
    "      <td>SCHWARTZ, BERNARD L.</td>\n",
    "      <td>4725600</td>\n",
    "    </tr>\n",
    "    <tr>\n",
    "      <th>12</th>\n",
    "      <td>SOROS, ALEXANDER</td>\n",
    "      <td>4361524</td>\n",
    "    </tr>\n",
    "    <tr>\n",
    "      <th>13</th>\n",
    "      <td>SCHWARZMAN, STEPHEN A.</td>\n",
    "      <td>3997400</td>\n",
    "    </tr>\n",
    "    <tr>\n",
    "      <th>14</th>\n",
    "      <td>MUNGER, PHILIP R.</td>\n",
    "      <td>3390000</td>\n",
    "    </tr>\n",
    "    <tr>\n",
    "      <th>15</th>\n",
    "      <td>SINGER, PAUL E.</td>\n",
    "      <td>3066000</td>\n",
    "    </tr>\n",
    "    <tr>\n",
    "      <th>16</th>\n",
    "      <td>SINGER, PAUL ELLIOTT</td>\n",
    "      <td>3000000</td>\n",
    "    </tr>\n",
    "    <tr>\n",
    "      <th>17</th>\n",
    "      <td>SIMONS, MARILYN</td>\n",
    "      <td>2531600</td>\n",
    "    </tr>\n",
    "    <tr>\n",
    "      <th>18</th>\n",
    "      <td>UNITE HERE TIP STATE &amp; LOCAL FUND</td>\n",
    "      <td>2527009</td>\n",
    "    </tr>\n",
    "    <tr>\n",
    "      <th>19</th>\n",
    "      <td>C. V. STARR &amp; COMPANY, INC.</td>\n",
    "      <td>2500000</td>\n",
    "    </tr>\n",
    "  </tbody>\n",
    "</table>"
   ]
  },
  {
   "cell_type": "code",
   "execution_count": null,
   "metadata": {
    "for_assignment_type": "student",
    "nbgrader": {
     "grade": false,
     "grade_id": "q1c-answer",
     "locked": false,
     "schema_version": 2,
     "solution": true
    },
    "tags": [
     "student"
    ]
   },
   "outputs": [],
   "source": [
    "# complete the query string\n",
    "query_q1c = '''\n",
    "SELECT \n",
    "    ... AS name,\n",
    "    ... AS total_transaction_amt \n",
    "FROM indiv_sample_nyc \n",
    "GROUP BY ... \n",
    "ORDER BY ... DESC\n",
    "LIMIT ...\n",
    "'''\n",
    "### BEGIN SOLUTION\n",
    "query_q1c = '''\n",
    "SELECT \n",
    "    name AS name, \n",
    "    sum(transaction_amt) AS total_transaction_amt \n",
    "FROM indiv_sample_nyc\n",
    "GROUP BY name\n",
    "ORDER BY total_transaction_amt DESC, name\n",
    "LIMIT 20\n",
    "'''\n",
    "### END SOLUTION\n",
    "\n",
    "pd.read_sql(query_q1c, engine)"
   ]
  },
  {
   "cell_type": "code",
   "execution_count": null,
   "metadata": {
    "nbgrader": {
     "grade": true,
     "grade_id": "cell-079f99ab023b3cfa",
     "locked": true,
     "points": 1,
     "schema_version": 2,
     "solution": false
    }
   },
   "outputs": [],
   "source": [
    "res = pd.read_sql(query_q1c,engine)\n",
    "assert res.shape == (20, 2)\n",
    "assert all(res['total_transaction_amt'] == res['total_transaction_amt'].sort_values(ascending=False))\n",
    "\n",
    "assert set(res['name']) == set(['HILLARY VICTORY FUND', 'SOROS, GEORGE', 'BLOOMBERG, MICHAEL R.',\n",
    "       'TRUMP, DONALD J.', 'SIMONS, JAMES H.', 'SIMONS, JAMES',\n",
    "       'C.V. STARR & CO INC', 'SINGER, PAUL', 'SINGER, PAUL ELLIOT',\n",
    "       'SHAW, DAVID E.', 'HILLARY ACTION FUND', 'SCHWARTZ, BERNARD L.',\n",
    "       'SOROS, ALEXANDER', 'SCHWARZMAN, STEPHEN A.', 'MUNGER, PHILIP R.',\n",
    "       'SINGER, PAUL E.', 'SINGER, PAUL ELLIOTT', 'SIMONS, MARILYN',\n",
    "       'UNITE HERE TIP STATE & LOCAL FUND', 'C. V. STARR & COMPANY, INC.'])"
   ]
  },
  {
   "cell_type": "markdown",
   "metadata": {},
   "source": [
    "### Question 2: Donation & Occupation"
   ]
  },
  {
   "cell_type": "markdown",
   "metadata": {
    "nbgrader": {
     "grade": false,
     "grade_id": "q2a",
     "locked": true,
     "schema_version": 2,
     "solution": false
    }
   },
   "source": [
    "### Question 2a\n",
    "\n",
    "We might also be interested in examining the distribution of contributors by occupation. Let's first compute how many distinct occupations occur in the dataset. You may need to use the `DISTINCT` keyword to solve the problem. Make sure to rename your result column to `count`."
   ]
  },
  {
   "cell_type": "code",
   "execution_count": null,
   "metadata": {
    "nbgrader": {
     "grade": false,
     "grade_id": "q2a-answer",
     "locked": false,
     "schema_version": 2,
     "solution": true
    },
    "tags": [
     "student"
    ]
   },
   "outputs": [],
   "source": [
    "query_q2a = '''\n",
    "SELECT \n",
    "    ...\n",
    "FROM indiv_sample_nyc \n",
    "'''\n",
    "### BEGIN SOLUTION\n",
    "query_q2a = '''\n",
    "SELECT \n",
    "    COUNT(distinct occupation) as count\n",
    "FROM indiv_sample_nyc\n",
    "'''\n",
    "### END SOLUTION\n",
    "\n",
    "pd.read_sql(query_q2a,engine)"
   ]
  },
  {
   "cell_type": "code",
   "execution_count": null,
   "metadata": {
    "nbgrader": {
     "grade": true,
     "grade_id": "q2a-tests",
     "locked": true,
     "points": 1,
     "schema_version": 2,
     "solution": false
    },
    "tags": [
     "q02a",
     "test"
    ]
   },
   "outputs": [],
   "source": [
    "res = pd.read_sql(query_q2a,engine)\n",
    "assert len(res) == 1\n",
    "assert res.columns == ['count']\n",
    "\n",
    "assert res[\"count\"][0] == 14089"
   ]
  },
  {
   "cell_type": "markdown",
   "metadata": {
    "nbgrader": {
     "grade": false,
     "grade_id": "q2b",
     "locked": true,
     "schema_version": 2,
     "solution": false
    }
   },
   "source": [
    "### Question 2b \n",
    " Write a SQL query which computes for each occupation the number of transactions in the indiv_sample table. Display the top 20 results in descending order by count. \n",
    "\n",
    "We will be grading the query string `query_q2b`.  You may modify our template but the result should contain the same information with the same names.\n",
    "\n",
    "The output should look something like: \n",
    "\n",
    "<table border=\"1\" class=\"dataframe\">\n",
    "  <thead>\n",
    "    <tr style=\"text-align: right;\">\n",
    "      <th></th>\n",
    "      <th>occupation</th>\n",
    "      <th>count</th>\n",
    "    </tr>\n",
    "  </thead>\n",
    "  <tbody>\n",
    "    <tr>\n",
    "      <th>0</th>\n",
    "      <td>NOT EMPLOYED</td>\n",
    "      <td>56006</td>\n",
    "    </tr>\n",
    "    <tr>\n",
    "      <th>1</th>\n",
    "      <td>RETIRED</td>\n",
    "      <td>48481</td>\n",
    "    </tr>\n",
    "    <tr>\n",
    "      <th>2</th>\n",
    "      <td>ATTORNEY</td>\n",
    "      <td>29537</td>\n",
    "    </tr>\n",
    "    <tr>\n",
    "      <th>3</th>\n",
    "      <td></td>\n",
    "      <td>21212</td>\n",
    "    </tr>\n",
    "    <tr>\n",
    "      <th>4</th>\n",
    "      <td>MANAGING DIRECTOR</td>\n",
    "      <td>12540</td>\n",
    "    </tr>\n",
    "    <tr>\n",
    "      <th>5</th>\n",
    "      <td>WRITER</td>\n",
    "      <td>9445</td>\n",
    "    </tr>\n",
    "    <tr>\n",
    "      <th>6</th>\n",
    "      <td>PHYSICIAN</td>\n",
    "      <td>9430</td>\n",
    "    </tr>\n",
    "    <tr>\n",
    "      <th>7</th>\n",
    "      <td>PROFESSOR</td>\n",
    "      <td>9309</td>\n",
    "    </tr>\n",
    "    <tr>\n",
    "      <th>8</th>\n",
    "      <td>LAWYER</td>\n",
    "      <td>9048</td>\n",
    "    </tr>\n",
    "    <tr>\n",
    "      <th>9</th>\n",
    "      <td>EXECUTIVE</td>\n",
    "      <td>8376</td>\n",
    "    </tr>\n",
    "    <tr>\n",
    "      <th>10</th>\n",
    "      <td>CONSULTANT</td>\n",
    "      <td>7605</td>\n",
    "    </tr>\n",
    "    <tr>\n",
    "      <th>11</th>\n",
    "      <td>TEACHER</td>\n",
    "      <td>6743</td>\n",
    "    </tr>\n",
    "    <tr>\n",
    "      <th>12</th>\n",
    "      <td>INVESTMENT BANKING</td>\n",
    "      <td>6313</td>\n",
    "    </tr>\n",
    "    <tr>\n",
    "      <th>13</th>\n",
    "      <td>UNEMPLOYED</td>\n",
    "      <td>6115</td>\n",
    "    </tr>\n",
    "    <tr>\n",
    "      <th>14</th>\n",
    "      <td>ARTIST</td>\n",
    "      <td>5826</td>\n",
    "    </tr>\n",
    "    <tr>\n",
    "      <th>15</th>\n",
    "      <td>ARCHITECT</td>\n",
    "      <td>5383</td>\n",
    "    </tr>\n",
    "    <tr>\n",
    "      <th>16</th>\n",
    "      <td>HOMEMAKER</td>\n",
    "      <td>4982</td>\n",
    "    </tr>\n",
    "    <tr>\n",
    "      <th>17</th>\n",
    "      <td>PARTNER</td>\n",
    "      <td>4719</td>\n",
    "    </tr>\n",
    "    <tr>\n",
    "      <th>18</th>\n",
    "      <td>REAL ESTATE</td>\n",
    "      <td>4025</td>\n",
    "    </tr>\n",
    "    <tr>\n",
    "      <th>19</th>\n",
    "      <td>PSYCHOTHERAPIST</td>\n",
    "      <td>3876</td>\n",
    "    </tr>\n",
    "  </tbody>\n",
    "</table>"
   ]
  },
  {
   "cell_type": "code",
   "execution_count": null,
   "metadata": {
    "for_assignment_type": "student",
    "nbgrader": {
     "grade": false,
     "grade_id": "q2b-answer",
     "locked": false,
     "schema_version": 2,
     "solution": true
    },
    "tags": [
     "student"
    ]
   },
   "outputs": [],
   "source": [
    "# complete the query string\n",
    "query_q2b = '''\n",
    "SELECT \n",
    "    ... AS occupation, \n",
    "    ... AS count\n",
    "FROM ...\n",
    "...\n",
    "...\n",
    "LIMIT ...\n",
    "'''\n",
    "### BEGIN SOLUTION\n",
    "query_q2b = '''\n",
    "SELECT \n",
    "    occupation AS occupation, \n",
    "    count(*) AS count\n",
    "FROM indiv_sample_nyc\n",
    "GROUP BY occupation\n",
    "ORDER BY count DESC\n",
    "LIMIT 20\n",
    "'''\n",
    "### END SOLUTION\n",
    "pd.read_sql(query_q2b, engine)"
   ]
  },
  {
   "cell_type": "code",
   "execution_count": null,
   "metadata": {
    "nbgrader": {
     "grade": true,
     "grade_id": "q2b-tests",
     "locked": true,
     "points": 1,
     "schema_version": 2,
     "solution": false
    },
    "tags": [
     "q02b",
     "test"
    ]
   },
   "outputs": [],
   "source": [
    "res = pd.read_sql(query_q2b,engine)\n",
    "assert res.shape == (20, 2)\n",
    "assert set(res.columns) == set(['occupation', 'count'])\n",
    "assert all(res == res.sort_values('count', ascending=False))\n",
    "\n",
    "assert set(res['occupation']).issuperset(set(['NOT EMPLOYED', 'RETIRED', 'ATTORNEY', '', 'MANAGING DIRECTOR',\n",
    "       'WRITER', 'PHYSICIAN', 'PROFESSOR', 'LAWYER', 'EXECUTIVE',\n",
    "       'CONSULTANT', 'TEACHER', 'INVESTMENT BANKING', 'UNEMPLOYED',\n",
    "       'ARTIST', 'ARCHITECT', 'HOMEMAKER', 'PARTNER', 'REAL ESTATE',\n",
    "       'PSYCHOTHERAPIST']))\n"
   ]
  },
  {
   "cell_type": "markdown",
   "metadata": {
    "nbgrader": {
     "grade": false,
     "grade_id": "q2c",
     "locked": true,
     "schema_version": 2,
     "solution": false
    }
   },
   "source": [
    "### Questions 2c\n",
    "Compute the average transaction amount for each occupation, and sort them in descending order.  \n",
    "Display the top 10 results.\n",
    "\n",
    "The output should look something like: \n",
    "\n",
    "<table border=\"1\" class=\"dataframe\">\n",
    "  <thead>\n",
    "    <tr style=\"text-align: right;\">\n",
    "      <th></th>\n",
    "      <th>occupation</th>\n",
    "      <th>amount</th>\n",
    "      <th>count</th>\n",
    "    </tr>\n",
    "  </thead>\n",
    "  <tbody>\n",
    "    <tr>\n",
    "      <th>0</th>\n",
    "      <td>CHAIRMAN CEO &amp; FOUNDER</td>\n",
    "      <td>1.023333e+06</td>\n",
    "      <td>3</td>\n",
    "    </tr>\n",
    "    <tr>\n",
    "      <th>1</th>\n",
    "      <td>FOUNDING AND MANAGING PRINCIPAL</td>\n",
    "      <td>4.500000e+05</td>\n",
    "      <td>2</td>\n",
    "    </tr>\n",
    "    <tr>\n",
    "      <th>2</th>\n",
    "      <td>CHAIRMAN AND SENIOR EXECUTIVE</td>\n",
    "      <td>4.000000e+05</td>\n",
    "      <td>1</td>\n",
    "    </tr>\n",
    "    <tr>\n",
    "      <th>3</th>\n",
    "      <td>BIOMEDICAL RESEARCHER</td>\n",
    "      <td>3.333333e+05</td>\n",
    "      <td>3</td>\n",
    "    </tr>\n",
    "    <tr>\n",
    "      <th>4</th>\n",
    "      <td>OWNER, CHAIRMAN, CEO</td>\n",
    "      <td>3.000000e+05</td>\n",
    "      <td>2</td>\n",
    "    </tr>\n",
    "    <tr>\n",
    "      <th>5</th>\n",
    "      <td>C.E..O.</td>\n",
    "      <td>2.500000e+05</td>\n",
    "      <td>1</td>\n",
    "    </tr>\n",
    "    <tr>\n",
    "      <th>6</th>\n",
    "      <td>EXECUTIVE VICE-PRESAIDENT</td>\n",
    "      <td>2.442000e+05</td>\n",
    "      <td>1</td>\n",
    "    </tr>\n",
    "    <tr>\n",
    "      <th>7</th>\n",
    "      <td>CO-CEO &amp; CO-CIO</td>\n",
    "      <td>2.000000e+05</td>\n",
    "      <td>1</td>\n",
    "    </tr>\n",
    "    <tr>\n",
    "      <th>8</th>\n",
    "      <td>EXECUTIVE CO-CHAIR</td>\n",
    "      <td>2.000000e+05</td>\n",
    "      <td>1</td>\n",
    "    </tr>\n",
    "    <tr>\n",
    "      <th>9</th>\n",
    "      <td>CHAIRPERSON</td>\n",
    "      <td>1.883000e+05</td>\n",
    "      <td>8</td>\n",
    "    </tr>\n",
    "  </tbody>\n",
    "</table>"
   ]
  },
  {
   "cell_type": "code",
   "execution_count": null,
   "metadata": {
    "nbgrader": {
     "grade": false,
     "grade_id": "q2c-answer",
     "locked": false,
     "schema_version": 2,
     "solution": true
    },
    "tags": [
     "student"
    ]
   },
   "outputs": [],
   "source": [
    "# complete the query string\n",
    "query_q2c = '''\n",
    "SELECT \n",
    "    ... AS occupation, \n",
    "    ... AS avg_amount,\n",
    "    ... AS count\n",
    "FROM indiv_sample_nyc \n",
    "...\n",
    "...\n",
    "LIMIT ...\n",
    "'''\n",
    "\n",
    "### BEGIN SOLUTION\n",
    "query_q2c = '''\n",
    "SELECT \n",
    "    occupation AS occupation, \n",
    "    avg(transaction_amt) AS amount,\n",
    "    count(*) AS count\n",
    "FROM indiv_sample_nyc\n",
    "GROUP BY occupation \n",
    "ORDER BY amount DESC\n",
    "LIMIT 10\n",
    "'''\n",
    "### END SOLUTION\n",
    "\n",
    "pd.read_sql(query_q2c, engine)"
   ]
  },
  {
   "cell_type": "code",
   "execution_count": null,
   "metadata": {
    "nbgrader": {
     "grade": true,
     "grade_id": "q2c-tests",
     "locked": true,
     "points": 1,
     "schema_version": 2,
     "solution": false
    },
    "tags": [
     "test",
     "q02c"
    ]
   },
   "outputs": [],
   "source": [
    "res = pd.read_sql(query_q2c,engine)\n",
    "assert res.shape == (10, 3)\n",
    "assert all(res == res.sort_values('amount', ascending=False))\n",
    "\n",
    "assert set(list(res[\"amount\"].astype(int))) == set([1023333,  450000,  400000,  333333,  300000,  250000,  244200,\n",
    "        200000,  200000,  188300])\n",
    "assert set(list(res[\"occupation\"])) == set(['CHAIRMAN CEO & FOUNDER', 'FOUNDING AND MANAGING PRINCIPAL',\n",
    "       'CHAIRMAN AND SENIOR EXECUTIVE', 'BIOMEDICAL RESEARCHER',\n",
    "       'OWNER, CHAIRMAN, CEO', 'C.E..O.', 'EXECUTIVE VICE-PRESAIDENT',\n",
    "       'CO-CEO & CO-CIO', 'EXECUTIVE CO-CHAIR', 'CHAIRPERSON'])"
   ]
  },
  {
   "cell_type": "markdown",
   "metadata": {
    "nbgrader": {
     "grade": false,
     "grade_id": "q2d",
     "locked": true,
     "schema_version": 2,
     "solution": false
    }
   },
   "source": [
    "### Questions 2d\n",
    "\n",
    "A few of the above occupations contain 1 or 2 transactions which could lead to unreliable conclusions.  Use a `HAVING` clause to keep only occupations for which we have more than 10 transactions. \n",
    "\n",
    "As before, display the top 10 occupations that have the largest average total transaction amount.\n",
    "\n",
    "Your output should look similar to: \n",
    "\n",
    "<table border=\"1\" class=\"dataframe\">\n",
    "  <thead>\n",
    "    <tr style=\"text-align: right;\">\n",
    "      <th></th>\n",
    "      <th>occupation</th>\n",
    "      <th>amount</th>\n",
    "      <th>count</th>\n",
    "    </tr>\n",
    "  </thead>\n",
    "  <tbody>\n",
    "    <tr>\n",
    "      <th>0</th>\n",
    "      <td>C.E.O.</td>\n",
    "      <td>185271.886792</td>\n",
    "      <td>53</td>\n",
    "    </tr>\n",
    "    <tr>\n",
    "      <th>1</th>\n",
    "      <td>BIOMEDICAL RESEARCH</td>\n",
    "      <td>110563.750000</td>\n",
    "      <td>40</td>\n",
    "    </tr>\n",
    "    <tr>\n",
    "      <th>2</th>\n",
    "      <td>PRESIDENT/CEO</td>\n",
    "      <td>92551.541463</td>\n",
    "      <td>205</td>\n",
    "    </tr>\n",
    "    <tr>\n",
    "      <th>3</th>\n",
    "      <td>FOUNDER &amp; CEO</td>\n",
    "      <td>68304.626374</td>\n",
    "      <td>91</td>\n",
    "    </tr>\n",
    "    <tr>\n",
    "      <th>4</th>\n",
    "      <td>PHILANTHROPIST</td>\n",
    "      <td>51764.404669</td>\n",
    "      <td>257</td>\n",
    "    </tr>\n",
    "    <tr>\n",
    "      <th>5</th>\n",
    "      <td>FOUNDER AND PRINCIPAL</td>\n",
    "      <td>43490.909091</td>\n",
    "      <td>11</td>\n",
    "    </tr>\n",
    "    <tr>\n",
    "      <th>6</th>\n",
    "      <td>CEO &amp; FOUNDER</td>\n",
    "      <td>37795.266667</td>\n",
    "      <td>15</td>\n",
    "    </tr>\n",
    "    <tr>\n",
    "      <th>7</th>\n",
    "      <td>GROUP PRESIDENT</td>\n",
    "      <td>29775.000000</td>\n",
    "      <td>19</td>\n",
    "    </tr>\n",
    "    <tr>\n",
    "      <th>8</th>\n",
    "      <td>FUND MANAGER</td>\n",
    "      <td>29151.119403</td>\n",
    "      <td>67</td>\n",
    "    </tr>\n",
    "    <tr>\n",
    "      <th>9</th>\n",
    "      <td>CHIEF INVESTMENT OFFICER</td>\n",
    "      <td>26616.666667</td>\n",
    "      <td>42</td>\n",
    "    </tr>\n",
    "  </tbody>\n",
    "</table>"
   ]
  },
  {
   "cell_type": "code",
   "execution_count": null,
   "metadata": {
    "nbgrader": {
     "grade": false,
     "grade_id": "q2d-answer",
     "locked": false,
     "schema_version": 2,
     "solution": true
    },
    "tags": [
     "student"
    ]
   },
   "outputs": [],
   "source": [
    "# complete the query string\n",
    "query_q2d = '''\n",
    "SELECT \n",
    "    ... AS occupation, \n",
    "    ... AS avg_amount,\n",
    "    ... AS count\n",
    "FROM indiv_sample_nyc \n",
    "GROUP BY ...\n",
    "HAVING ...\n",
    "ORDER BY ...\n",
    "LIMIT ...\n",
    "'''\n",
    "\n",
    "### BEGIN SOLUTION\n",
    "query_q2d = '''\n",
    "SELECT \n",
    "    occupation AS occupation, \n",
    "    avg(transaction_amt) AS amount,\n",
    "    count(*) AS count\n",
    "FROM indiv_sample_nyc\n",
    "GROUP BY occupation \n",
    "HAVING count(*) > 10\n",
    "ORDER BY amount DESC\n",
    "LIMIT 10\n",
    "'''\n",
    "### END SOLUTION\n",
    "pd.read_sql(query_q2d, engine)"
   ]
  },
  {
   "cell_type": "code",
   "execution_count": null,
   "metadata": {
    "nbgrader": {
     "grade": true,
     "grade_id": "q2d-tests",
     "locked": true,
     "points": 1,
     "schema_version": 2,
     "solution": false
    },
    "tags": [
     "test",
     "q02d"
    ]
   },
   "outputs": [],
   "source": [
    "res = pd.read_sql(query_q2d, engine)\n",
    "assert res.shape == (10, 3)\n",
    "assert all(res == res.sort_values('amount', ascending=False))\n",
    "\n",
    "assert set(list(res[\"amount\"].astype(int))) == set([185271, 110563,  92551,  68304,  51764,  43490,  37795,  29775,\n",
    "        29151,  26616])\n",
    "assert set(list(res[\"occupation\"])) == set(['C.E.O.', 'BIOMEDICAL RESEARCH', 'PRESIDENT/CEO', 'FOUNDER & CEO',\n",
    "       'PHILANTHROPIST', 'FOUNDER AND PRINCIPAL', 'CEO & FOUNDER',\n",
    "       'GROUP PRESIDENT', 'FUND MANAGER', 'CHIEF INVESTMENT OFFICER'])"
   ]
  },
  {
   "cell_type": "markdown",
   "metadata": {
    "nbgrader": {
     "grade": false,
     "grade_id": "q2e",
     "locked": true,
     "schema_version": 2,
     "solution": false
    }
   },
   "source": [
    "### Questions 2e\n",
    "\n",
    "Let's break the total contributions down by occupation and individual (grouping on both dimensions at once).  Display the `occupation`, `name`, and total contribution amount from the `indiv_sample_nyc` table. Display the top 10 results order by the `total_amount`.\n",
    "\n",
    "The output should look something like: \n",
    "<table border=\"1\" class=\"dataframe\">\n",
    "  <thead>\n",
    "    <tr style=\"text-align: right;\">\n",
    "      <th></th>\n",
    "      <th>occupation</th>\n",
    "      <th>name</th>\n",
    "      <th>total_amount</th>\n",
    "    </tr>\n",
    "  </thead>\n",
    "  <tbody>\n",
    "    <tr>\n",
    "      <th>0</th>\n",
    "      <td></td>\n",
    "      <td>HILLARY VICTORY FUND</td>\n",
    "      <td>35379700</td>\n",
    "    </tr>\n",
    "    <tr>\n",
    "      <th>1</th>\n",
    "      <td>EXECUTIVE</td>\n",
    "      <td>BLOOMBERG, MICHAEL R.</td>\n",
    "      <td>21665124</td>\n",
    "    </tr>\n",
    "    <tr>\n",
    "      <th>2</th>\n",
    "      <td>PRESIDENT/CEO</td>\n",
    "      <td>TRUMP, DONALD J.</td>\n",
    "      <td>18633157</td>\n",
    "    </tr>\n",
    "    <tr>\n",
    "      <th>3</th>\n",
    "      <td>CHAIRMAN</td>\n",
    "      <td>SOROS, GEORGE</td>\n",
    "      <td>17281093</td>\n",
    "    </tr>\n",
    "    <tr>\n",
    "      <th>4</th>\n",
    "      <td>PHILANTHROPIST</td>\n",
    "      <td>SIMONS, JAMES</td>\n",
    "      <td>11032000</td>\n",
    "    </tr>\n",
    "    <tr>\n",
    "      <th>5</th>\n",
    "      <td>PRESIDENT</td>\n",
    "      <td>SIMONS, JAMES H.</td>\n",
    "      <td>10525000</td>\n",
    "    </tr>\n",
    "    <tr>\n",
    "      <th>6</th>\n",
    "      <td></td>\n",
    "      <td>C.V. STARR &amp; CO INC</td>\n",
    "      <td>10000000</td>\n",
    "    </tr>\n",
    "    <tr>\n",
    "      <th>7</th>\n",
    "      <td>C.E.O.</td>\n",
    "      <td>SINGER, PAUL ELLIOT</td>\n",
    "      <td>5000000</td>\n",
    "    </tr>\n",
    "    <tr>\n",
    "      <th>8</th>\n",
    "      <td></td>\n",
    "      <td>HILLARY ACTION FUND</td>\n",
    "      <td>4950000</td>\n",
    "    </tr>\n",
    "    <tr>\n",
    "      <th>9</th>\n",
    "      <td>C.E.O.</td>\n",
    "      <td>SINGER, PAUL</td>\n",
    "      <td>4500000</td>\n",
    "    </tr>\n",
    "  </tbody>\n",
    "</table>"
   ]
  },
  {
   "cell_type": "code",
   "execution_count": null,
   "metadata": {
    "nbgrader": {
     "grade": false,
     "grade_id": "q2e-answer",
     "locked": false,
     "schema_version": 2,
     "solution": true
    },
    "tags": [
     "student"
    ]
   },
   "outputs": [],
   "source": [
    "# complete the query string\n",
    "query_q2e = '''\n",
    "SELECT \n",
    "    ... AS occupation,\n",
    "    ... AS name,\n",
    "    ... AS total_amount\n",
    "FROM indiv_sample_nyc \n",
    "...\n",
    "...\n",
    "...\n",
    "'''\n",
    "\n",
    "### BEGIN SOLUTION\n",
    "query_q2e = '''\n",
    "SELECT \n",
    "    occupation AS occupation,\n",
    "    name AS name,\n",
    "    sum(transaction_amt) AS total_amount\n",
    "FROM indiv_sample_nyc\n",
    "GROUP BY occupation,name\n",
    "ORDER BY total_amount DESC\n",
    "LIMIT 10\n",
    "'''\n",
    "### END SOLUTION\n",
    "pd.read_sql(query_q2e, engine)"
   ]
  },
  {
   "cell_type": "code",
   "execution_count": null,
   "metadata": {
    "nbgrader": {
     "grade": true,
     "grade_id": "q2e-tests",
     "locked": true,
     "points": 1,
     "schema_version": 2,
     "solution": false
    },
    "tags": [
     "test",
     "q02e"
    ]
   },
   "outputs": [],
   "source": [
    "res = pd.read_sql(query_q2e, engine)\n",
    "assert res.shape == (10, 3)\n",
    "assert all(res == res.sort_values('total_amount', ascending=False))\n",
    "\n",
    "assert set(list(res[\"total_amount\"].astype(int))) == set([35379700, 21665124, 18633157, 17281093, 11032000, 10525000,\n",
    "       10000000,  5000000,  4950000,  4500000])\n",
    "assert set(list(res[\"occupation\"])).issuperset(set(['', 'EXECUTIVE', 'PRESIDENT/CEO', 'CHAIRMAN', 'PHILANTHROPIST',\n",
    "       'PRESIDENT', '', 'C.E.O.', '', 'C.E.O.']))"
   ]
  },
  {
   "cell_type": "markdown",
   "metadata": {
    "nbgrader": {
     "grade": false,
     "grade_id": "q2f",
     "locked": true,
     "schema_version": 2,
     "solution": false
    }
   },
   "source": [
    "### Question 2f\n",
    "\n",
    "Let's now examine the **average** of the **total contribution** for each person registered within an occupation. Note we will need to do this in two steps.  We will first need to compute the total contributions for each user and group and then average the totals across groups.  Use the following nested query template to answer this question. Restrict the final output to occupations that have more than 5 individuals.  Display the top 10 results order the results by the average amount in descending order and break ties with the occupation in ascending order. \n",
    "\n",
    "Your output should look similar to:\n",
    "\n",
    "<table border=\"1\" class=\"dataframe\">\n",
    "  <thead>\n",
    "    <tr style=\"text-align: right;\">\n",
    "      <th></th>\n",
    "      <th>occupation</th>\n",
    "      <th>amount</th>\n",
    "      <th>count</th>\n",
    "    </tr>\n",
    "  </thead>\n",
    "  <tbody>\n",
    "    <tr>\n",
    "      <th>0</th>\n",
    "      <td>BIOMEDICAL RESEARCH</td>\n",
    "      <td>737091.666667</td>\n",
    "      <td>6</td>\n",
    "    </tr>\n",
    "    <tr>\n",
    "      <th>1</th>\n",
    "      <td>PRESIDENT/CEO</td>\n",
    "      <td>677609.500000</td>\n",
    "      <td>28</td>\n",
    "    </tr>\n",
    "    <tr>\n",
    "      <th>2</th>\n",
    "      <td>C.E.O.</td>\n",
    "      <td>392776.400000</td>\n",
    "      <td>25</td>\n",
    "    </tr>\n",
    "    <tr>\n",
    "      <th>3</th>\n",
    "      <td>CANDIDATE</td>\n",
    "      <td>210859.285714</td>\n",
    "      <td>7</td>\n",
    "    </tr>\n",
    "    <tr>\n",
    "      <th>4</th>\n",
    "      <td>CHAIRMAN AND CHIEF EXECUTIVE OFFICER</td>\n",
    "      <td>159750.000000</td>\n",
    "      <td>7</td>\n",
    "    </tr>\n",
    "    <tr>\n",
    "      <th>5</th>\n",
    "      <td>FOUNDER &amp; CEO</td>\n",
    "      <td>144551.651163</td>\n",
    "      <td>43</td>\n",
    "    </tr>\n",
    "    <tr>\n",
    "      <th>6</th>\n",
    "      <td>PHILANTHROPIST</td>\n",
    "      <td>112741.118644</td>\n",
    "      <td>118</td>\n",
    "    </tr>\n",
    "    <tr>\n",
    "      <th>7</th>\n",
    "      <td>FUND MANAGER</td>\n",
    "      <td>102796.052632</td>\n",
    "      <td>19</td>\n",
    "    </tr>\n",
    "    <tr>\n",
    "      <th>8</th>\n",
    "      <td>GROUP PRESIDENT</td>\n",
    "      <td>80817.857143</td>\n",
    "      <td>7</td>\n",
    "    </tr>\n",
    "    <tr>\n",
    "      <th>9</th>\n",
    "      <td>MUSIC PRODUCER</td>\n",
    "      <td>63192.500000</td>\n",
    "      <td>10</td>\n",
    "    </tr>\n",
    "  </tbody>\n",
    "</table>"
   ]
  },
  {
   "cell_type": "code",
   "execution_count": null,
   "metadata": {
    "nbgrader": {
     "grade": false,
     "grade_id": "q2f-answer",
     "locked": false,
     "schema_version": 2,
     "solution": true
    },
    "tags": [
     "student"
    ]
   },
   "outputs": [],
   "source": [
    "# complete the query string\n",
    "query_q2f = '''\n",
    "SELECT occupation, avg(total_amount) AS amount, count(*) AS count\n",
    "FROM (\n",
    "    SELECT ..., ..., ... AS total_amount\n",
    "    FROM indiv_sample_nyc \n",
    "    GROUP BY ...\n",
    ") AS total_contributions\n",
    "GROUP BY ...\n",
    "HAVING ...\n",
    "ORDER BY ...\n",
    "LIMIT ...\n",
    "'''\n",
    "### BEGIN SOLUTION\n",
    "query_q2f = '''\n",
    "SELECT occupation, avg(total_amount) AS amount, count(*) AS count\n",
    "FROM (\n",
    "    SELECT name, occupation, sum(transaction_amt) AS total_amount\n",
    "    FROM indiv_sample_nyc \n",
    "    GROUP BY name, occupation\n",
    ") AS total_contributions\n",
    "GROUP BY occupation\n",
    "HAVING count(*) > 5\n",
    "ORDER BY amount DESC, occupation\n",
    "LIMIT 10\n",
    "'''\n",
    "### END SOLUTION\n",
    "\n",
    "pd.read_sql(query_q2f, engine)"
   ]
  },
  {
   "cell_type": "code",
   "execution_count": null,
   "metadata": {
    "nbgrader": {
     "grade": true,
     "grade_id": "q2f-tests",
     "locked": true,
     "points": 1,
     "schema_version": 2,
     "solution": false
    },
    "tags": [
     "test",
     "q02f"
    ]
   },
   "outputs": [],
   "source": [
    "res = pd.read_sql(query_q2f,engine)\n",
    "assert res.shape == (10, 3)\n",
    "assert all(res == res.sort_values('amount', ascending=False))\n",
    "assert set(list(res[\"amount\"].astype(int))) == set([737091, 677609, 392776, 210859, 159750, 144551, 112741, 102796,\n",
    "        80817,  63192])\n",
    "assert set(list(res[\"occupation\"])) == set(['BIOMEDICAL RESEARCH', 'PRESIDENT/CEO', 'C.E.O.', 'CANDIDATE',\n",
    "       'CHAIRMAN AND CHIEF EXECUTIVE OFFICER', 'FOUNDER & CEO',\n",
    "       'PHILANTHROPIST', 'FUND MANAGER', 'GROUP PRESIDENT',\n",
    "       'MUSIC PRODUCER'])"
   ]
  },
  {
   "cell_type": "markdown",
   "metadata": {
    "nbgrader": {
     "grade": false,
     "grade_id": "q3",
     "locked": true,
     "schema_version": 2,
     "solution": false
    }
   },
   "source": [
    "### Question 3: Committees and Parties\n",
    "Now let's examine the committees that appear in the `indiv_sample_nyc` table, with the information from the `comm` table. First let's take a look of the `comm` table."
   ]
  },
  {
   "cell_type": "code",
   "execution_count": null,
   "metadata": {
    "nbgrader": {
     "grade": false,
     "grade_id": "q3-code",
     "locked": true,
     "schema_version": 2,
     "solution": false
    }
   },
   "outputs": [],
   "source": [
    "pd.read_sql(\"select * from comm limit 2\", engine)"
   ]
  },
  {
   "cell_type": "markdown",
   "metadata": {
    "nbgrader": {
     "grade": false,
     "grade_id": "q3a",
     "locked": true,
     "schema_version": 2,
     "solution": false
    }
   },
   "source": [
    "### Questions 3a\n",
    "Let's first groupby the transactions in the `indiv_sample_nyc` table with `cmte_id` column (committee id), then count how many transactions and how much total amount of contribution there are for each `cmte_id`. Select the top 5 committees order by the transactions count.\n",
    "\n",
    "Your output should look similar to:\n",
    "\n",
    "<table border=\"1\" class=\"dataframe\">\n",
    "  <thead>\n",
    "    <tr style=\"text-align: right;\">\n",
    "      <th></th>\n",
    "      <th>committee_id</th>\n",
    "      <th>total_amount</th>\n",
    "      <th>count</th>\n",
    "    </tr>\n",
    "  </thead>\n",
    "  <tbody>\n",
    "    <tr>\n",
    "      <th>0</th>\n",
    "      <td>C00401224</td>\n",
    "      <td>20442777</td>\n",
    "      <td>132822</td>\n",
    "    </tr>\n",
    "    <tr>\n",
    "      <th>1</th>\n",
    "      <td>C00575795</td>\n",
    "      <td>25099091</td>\n",
    "      <td>110657</td>\n",
    "    </tr>\n",
    "    <tr>\n",
    "      <th>2</th>\n",
    "      <td>C00000935</td>\n",
    "      <td>6989835</td>\n",
    "      <td>36237</td>\n",
    "    </tr>\n",
    "    <tr>\n",
    "      <th>3</th>\n",
    "      <td>C00577130</td>\n",
    "      <td>2361892</td>\n",
    "      <td>30504</td>\n",
    "    </tr>\n",
    "    <tr>\n",
    "      <th>4</th>\n",
    "      <td>C00586537</td>\n",
    "      <td>63242107</td>\n",
    "      <td>23295</td>\n",
    "    </tr>\n",
    "  </tbody>\n",
    "</table>"
   ]
  },
  {
   "cell_type": "code",
   "execution_count": null,
   "metadata": {
    "nbgrader": {
     "grade": false,
     "grade_id": "q3a-answer",
     "locked": false,
     "schema_version": 2,
     "solution": true
    },
    "tags": [
     "student"
    ]
   },
   "outputs": [],
   "source": [
    "query_q3a='''\n",
    "SELECT\n",
    "    ... AS committee_id,\n",
    "    ... AS total_amount,\n",
    "    ... AS count\n",
    "FROM indiv_sample_nyc\n",
    "...\n",
    "...\n",
    "...\n",
    "'''\n",
    "\n",
    "### BEGIN SOLUTION\n",
    "query_q3a='''\n",
    "SELECT\n",
    "    cmte_id AS committee_id,\n",
    "    sum(transaction_amt) AS total_amount,\n",
    "    count(*) AS count\n",
    "FROM indiv_sample_nyc\n",
    "GROUP BY cmte_id\n",
    "ORDER BY count DESC\n",
    "LIMIT 5\n",
    "'''\n",
    "### END SOLUTION\n",
    "\n",
    "pd.read_sql(query_q3a, engine)"
   ]
  },
  {
   "cell_type": "code",
   "execution_count": null,
   "metadata": {
    "nbgrader": {
     "grade": true,
     "grade_id": "q3a-tests",
     "locked": true,
     "points": 1,
     "schema_version": 2,
     "solution": false
    },
    "tags": [
     "test",
     "q03a"
    ]
   },
   "outputs": [],
   "source": [
    "res = pd.read_sql(query_q3a,engine)\n",
    "assert res.shape == (5, 3)\n",
    "assert all(res == res.sort_values('count', ascending=False))\n",
    "assert set(res['total_amount'].unique()) == set([20442777, 25099091,  6989835,  2361892, 63242107])"
   ]
  },
  {
   "cell_type": "markdown",
   "metadata": {
    "nbgrader": {
     "grade": false,
     "grade_id": "q3b",
     "locked": true,
     "schema_version": 2,
     "solution": false
    }
   },
   "source": [
    "### Questions 3b\n",
    "Only showing the committee id doesn't tell us much. Let's also select the committee information by joining with the `comm` table using the `cmite_id` field.\n",
    "\n",
    "You will extend the query we have from q3a and then perform a `JOIN` with the `comm` table. Select extra committee information such as committee name, party_affiliation, city and state from `comm`. Select the top 10 committees order by transaction count.\n",
    "\n",
    "Your output should look like the following:\n",
    "\n",
    "<table border=\"1\" class=\"dataframe\">\n",
    "  <thead>\n",
    "    <tr style=\"text-align: right;\">\n",
    "      <th></th>\n",
    "      <th>cmte_name</th>\n",
    "      <th>party_affiliation</th>\n",
    "      <th>city</th>\n",
    "      <th>state</th>\n",
    "      <th>total_amount</th>\n",
    "      <th>count</th>\n",
    "    </tr>\n",
    "  </thead>\n",
    "  <tbody>\n",
    "    <tr>\n",
    "      <th>0</th>\n",
    "      <td>ACTBLUE</td>\n",
    "      <td></td>\n",
    "      <td>SOMERVILLE</td>\n",
    "      <td>MA</td>\n",
    "      <td>20442777</td>\n",
    "      <td>132822</td>\n",
    "    </tr>\n",
    "    <tr>\n",
    "      <th>1</th>\n",
    "      <td>HILLARY FOR AMERICA</td>\n",
    "      <td>DEM</td>\n",
    "      <td>NEW YORK</td>\n",
    "      <td>NY</td>\n",
    "      <td>25099091</td>\n",
    "      <td>110657</td>\n",
    "    </tr>\n",
    "    <tr>\n",
    "      <th>2</th>\n",
    "      <td>DCCC</td>\n",
    "      <td>DEM</td>\n",
    "      <td>WASHINGTON</td>\n",
    "      <td>DC</td>\n",
    "      <td>6989835</td>\n",
    "      <td>36237</td>\n",
    "    </tr>\n",
    "    <tr>\n",
    "      <th>3</th>\n",
    "      <td>BERNIE 2016</td>\n",
    "      <td>DEM</td>\n",
    "      <td>BURLINGTON</td>\n",
    "      <td>VT</td>\n",
    "      <td>2361892</td>\n",
    "      <td>30504</td>\n",
    "    </tr>\n",
    "    <tr>\n",
    "      <th>4</th>\n",
    "      <td>HILLARY VICTORY FUND</td>\n",
    "      <td></td>\n",
    "      <td>NEW YORK</td>\n",
    "      <td>NY</td>\n",
    "      <td>63242107</td>\n",
    "      <td>23295</td>\n",
    "    </tr>\n",
    "    <tr>\n",
    "      <th>5</th>\n",
    "      <td>DSCC</td>\n",
    "      <td>DEM</td>\n",
    "      <td>WASHINGTON</td>\n",
    "      <td>DC</td>\n",
    "      <td>7969344</td>\n",
    "      <td>13690</td>\n",
    "    </tr>\n",
    "    <tr>\n",
    "      <th>6</th>\n",
    "      <td>JPMORGAN CHASE &amp; CO. FEDERAL POLITICAL ACTION ...</td>\n",
    "      <td></td>\n",
    "      <td>WASHINGTON</td>\n",
    "      <td>DC</td>\n",
    "      <td>750564</td>\n",
    "      <td>13007</td>\n",
    "    </tr>\n",
    "    <tr>\n",
    "      <th>7</th>\n",
    "      <td>END CITIZENS UNITED</td>\n",
    "      <td></td>\n",
    "      <td>WASHINGTON</td>\n",
    "      <td>DC</td>\n",
    "      <td>447766</td>\n",
    "      <td>12795</td>\n",
    "    </tr>\n",
    "    <tr>\n",
    "      <th>8</th>\n",
    "      <td>PFIZER INC. PAC</td>\n",
    "      <td>UNK</td>\n",
    "      <td>NEW YORK</td>\n",
    "      <td>NY</td>\n",
    "      <td>757750</td>\n",
    "      <td>11166</td>\n",
    "    </tr>\n",
    "    <tr>\n",
    "      <th>9</th>\n",
    "      <td>MORGAN STANLEY POLITICAL ACTION COMMITTEE</td>\n",
    "      <td></td>\n",
    "      <td>NEW YORK</td>\n",
    "      <td>NY</td>\n",
    "      <td>783278</td>\n",
    "      <td>11126</td>\n",
    "    </tr>\n",
    "  </tbody>\n",
    "</table>"
   ]
  },
  {
   "cell_type": "code",
   "execution_count": null,
   "metadata": {
    "nbgrader": {
     "grade": false,
     "grade_id": "q3b-answer",
     "locked": false,
     "schema_version": 2,
     "solution": true
    },
    "scrolled": true,
    "tags": [
     "student"
    ]
   },
   "outputs": [],
   "source": [
    "query_q3b = '''\n",
    "WITH cmte_count AS\n",
    "(\n",
    "  SELECT \n",
    "      ... AS cmte_id,\n",
    "      ... AS total_amount,\n",
    "      ... AS count\n",
    "  FROM indiv_sample_nyc \n",
    "  ...\n",
    ")\n",
    "SELECT \n",
    "    ... AS cmte_name, \n",
    "    ... AS party_affiliation,\n",
    "    ... AS city,\n",
    "    ... AS state,\n",
    "    ... AS total_amount,\n",
    "    ... AS count\n",
    "FROM cmte_count i JOIN comm c ON ...\n",
    "...\n",
    "...\n",
    "'''\n",
    "### BEGIN SOLUTION\n",
    "query_q3b = '''\n",
    "WITH cmte_count AS\n",
    "(\n",
    "  SELECT \n",
    "      cmte_id AS cmte_id,\n",
    "      sum(transaction_amt) AS total_amount,\n",
    "      count(*) AS count\n",
    "  FROM indiv_sample_nyc \n",
    "  GROUP BY cmte_id \n",
    ")\n",
    "SELECT \n",
    "    c.cmte_nm AS cmte_name, \n",
    "    c.cmte_pty_affiliation AS party_affiliation,\n",
    "    c.cmte_city AS city,\n",
    "    c.cmte_st AS state,\n",
    "    i.total_amount AS total_amount,\n",
    "    i.count AS count\n",
    "FROM cmte_count i JOIN comm c ON c.cmte_id = i.cmte_id\n",
    "ORDER BY count DESC\n",
    "LIMIT 10\n",
    "'''\n",
    "### END SOLUTION\n",
    "\n",
    "pd.read_sql(query_q3b, engine)"
   ]
  },
  {
   "cell_type": "code",
   "execution_count": null,
   "metadata": {
    "nbgrader": {
     "grade": true,
     "grade_id": "q3b-tests",
     "locked": true,
     "points": 1,
     "schema_version": 2,
     "solution": false
    },
    "tags": [
     "test",
     "q03b"
    ]
   },
   "outputs": [],
   "source": [
    "res = pd.read_sql(query_q3b,engine)[[\"cmte_name\", \"count\"]]\n",
    "assert res.shape == (10, 2)\n",
    "assert all(res == res.sort_values('count', ascending=False))\n",
    "assert set(res['count'].unique()) == set([132822, 110657,  36237,  30504,  23295,  13690,  13007,  12795,\n",
    "        11166,  11126])"
   ]
  }
 ],
 "metadata": {
  "anaconda-cloud": {},
  "celltoolbar": "Create Assignment",
  "kernelspec": {
   "display_name": "Python 3",
   "language": "python",
   "name": "python3"
  },
  "language_info": {
   "codemirror_mode": {
    "name": "ipython",
    "version": 3
   },
   "file_extension": ".py",
   "mimetype": "text/x-python",
   "name": "python",
   "nbconvert_exporter": "python",
   "pygments_lexer": "ipython3",
   "version": "3.6.5"
  },
  "timetravel": {
   "allowedContentTypes": [
    "text/plain"
   ],
   "enabled": false,
   "version": "1.0"
  }
 },
 "nbformat": 4,
 "nbformat_minor": 1
}
