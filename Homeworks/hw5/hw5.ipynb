{
 "cells": [
  {
   "cell_type": "markdown",
   "metadata": {
    "nbgrader": {
     "grade": false,
     "grade_id": "cell-43112367e8f97d15",
     "locked": true,
     "schema_version": 2,
     "solution": false
    },
    "toc": true
   },
   "source": [
    "<h1>Table of Contents<span class=\"tocSkip\"></span></h1>\n",
    "<div class=\"toc\"><ul class=\"toc-item\"><li><span><a href=\"#Hypothesis-Testing:-Does-The-Hot-Hand-Effect-Exist?\" data-toc-modified-id=\"Hypothesis-Testing:-Does-The-Hot-Hand-Effect-Exist?-1\">Hypothesis Testing: Does The Hot Hand Effect Exist?</a></span><ul class=\"toc-item\"><li><span><a href=\"#The-Data\" data-toc-modified-id=\"The-Data-1.1\">The Data</a></span><ul class=\"toc-item\"><li><ul class=\"toc-item\"><li><span><a href=\"#Problem-1-[5pts]\" data-toc-modified-id=\"Problem-1-[5pts]-1.1.0.1\">Problem 1 [5pts]</a></span></li><li><span><a href=\"#Problem-2-[5pts]\" data-toc-modified-id=\"Problem-2-[5pts]-1.1.0.2\">Problem 2 [5pts]</a></span></li></ul></li></ul></li><li><span><a href=\"#The-Hypothesis\" data-toc-modified-id=\"The-Hypothesis-1.2\">The Hypothesis</a></span></li><li><span><a href=\"#Understanding-the-Data\" data-toc-modified-id=\"Understanding-the-Data-1.3\">Understanding the Data</a></span><ul class=\"toc-item\"><li><ul class=\"toc-item\"><li><span><a href=\"#Problem-3-[1pt]\" data-toc-modified-id=\"Problem-3-[1pt]-1.3.0.1\">Problem 3 [1pt]</a></span></li><li><span><a href=\"#Problem-4-[2pts]\" data-toc-modified-id=\"Problem-4-[2pts]-1.3.0.2\">Problem 4 [2pts]</a></span></li><li><span><a href=\"#Problem-5-[2pts]\" data-toc-modified-id=\"Problem-5-[2pts]-1.3.0.3\">Problem 5 [2pts]</a></span></li><li><span><a href=\"#Problem-6-[10pts]\" data-toc-modified-id=\"Problem-6-[10pts]-1.3.0.4\">Problem 6 [10pts]</a></span></li><li><span><a href=\"#Problem-7-[5pts]\" data-toc-modified-id=\"Problem-7-[5pts]-1.3.0.5\">Problem 7 [5pts]</a></span></li></ul></li></ul></li><li><span><a href=\"#Defining-a-Test-Statistic\" data-toc-modified-id=\"Defining-a-Test-Statistic-1.4\">Defining a Test Statistic</a></span><ul class=\"toc-item\"><li><ul class=\"toc-item\"><li><span><a href=\"#Problem-8-[10pts]\" data-toc-modified-id=\"Problem-8-[10pts]-1.4.0.1\">Problem 8 [10pts]</a></span></li><li><span><a href=\"#Problem-9-[10pts]\" data-toc-modified-id=\"Problem-9-[10pts]-1.4.0.2\">Problem 9 [10pts]</a></span></li></ul></li></ul></li><li><span><a href=\"#A-Different-Statistic\" data-toc-modified-id=\"A-Different-Statistic-1.5\">A Different Statistic</a></span><ul class=\"toc-item\"><li><ul class=\"toc-item\"><li><span><a href=\"#Problem-10-[10pts]\" data-toc-modified-id=\"Problem-10-[10pts]-1.5.0.1\">Problem 10 [10pts]</a></span></li></ul></li><li><span><a href=\"#Worked-examples\" data-toc-modified-id=\"Worked-examples-1.5.1\">Worked examples</a></span><ul class=\"toc-item\"><li><span><a href=\"#Example-1\" data-toc-modified-id=\"Example-1-1.5.1.1\">Example 1</a></span></li><li><span><a href=\"#Example-2\" data-toc-modified-id=\"Example-2-1.5.1.2\">Example 2</a></span></li><li><span><a href=\"#Check-your-understanding\" data-toc-modified-id=\"Check-your-understanding-1.5.1.3\">Check your understanding</a></span></li></ul></li><li><span><a href=\"#Computing-the-Expectated-Value-of-$T_{1,-make}$\" data-toc-modified-id=\"Computing-the-Expectated-Value-of-$T_{1,-make}$-1.5.2\">Computing the Expectated Value of $T_{1, make}$</a></span><ul class=\"toc-item\"><li><span><a href=\"#Thought-Exercise\" data-toc-modified-id=\"Thought-Exercise-1.5.2.1\">Thought Exercise</a></span></li><li><span><a href=\"#Problem-11-[5pts]\" data-toc-modified-id=\"Problem-11-[5pts]-1.5.2.2\">Problem 11 [5pts]</a></span></li><li><span><a href=\"#Problem-12-[5pts]\" data-toc-modified-id=\"Problem-12-[5pts]-1.5.2.3\">Problem 12 [5pts]</a></span></li></ul></li></ul></li><li><span><a href=\"#The-&quot;Tversky-Statistic&quot;-for-Hot-Hand-Detection\" data-toc-modified-id=\"The-&quot;Tversky-Statistic&quot;-for-Hot-Hand-Detection-1.6\">The \"Tversky Statistic\" for Hot Hand Detection</a></span><ul class=\"toc-item\"><li><ul class=\"toc-item\"><li><span><a href=\"#Problem-13-[5pts]\" data-toc-modified-id=\"Problem-13-[5pts]-1.6.0.1\">Problem 13 [5pts]</a></span></li><li><span><a href=\"#Problem--14-[5pts]\" data-toc-modified-id=\"Problem--14-[5pts]-1.6.0.2\">Problem  14 [5pts]</a></span></li></ul></li><li><span><a href=\"#Statistically-Testing-the-Null-Hypothesis\" data-toc-modified-id=\"Statistically-Testing-the-Null-Hypothesis-1.6.1\">Statistically Testing the Null Hypothesis</a></span><ul class=\"toc-item\"><li><span><a href=\"#Problem-15-[10pts]\" data-toc-modified-id=\"Problem-15-[10pts]-1.6.1.1\">Problem 15 [10pts]</a></span></li><li><span><a href=\"#Problem-16-[Graded-in-the-Synthesis-Portion]\" data-toc-modified-id=\"Problem-16-[Graded-in-the-Synthesis-Portion]-1.6.1.2\">Problem 16 [Graded in the Synthesis Portion]</a></span></li></ul></li></ul></li><li><span><a href=\"#Synthesis\" data-toc-modified-id=\"Synthesis-1.7\">Synthesis</a></span><ul class=\"toc-item\"><li><ul class=\"toc-item\"><li><span><a href=\"#Data-Generation-Model-[8pts]\" data-toc-modified-id=\"Data-Generation-Model-[8pts]-1.7.0.1\">Data Generation Model [8pts]</a></span></li><li><span><a href=\"#Null-Hypothesis-[5pts]\" data-toc-modified-id=\"Null-Hypothesis-[5pts]-1.7.0.2\">Null Hypothesis [5pts]</a></span></li><li><span><a href=\"#Test-Statistic-[2pts]\" data-toc-modified-id=\"Test-Statistic-[2pts]-1.7.0.3\">Test Statistic [2pts]</a></span></li><li><span><a href=\"#Results-[20pts]\" data-toc-modified-id=\"Results-[20pts]-1.7.0.4\">Results [20pts]</a></span></li></ul></li></ul></li><li><span><a href=\"#Further-Reading\" data-toc-modified-id=\"Further-Reading-1.8\">Further Reading</a></span></li></ul></li></ul></div>"
   ]
  },
  {
   "cell_type": "code",
   "execution_count": 1,
   "metadata": {
    "nbgrader": {
     "grade": false,
     "grade_id": "cell-11f832e52b131385",
     "locked": true,
     "schema_version": 2,
     "solution": false
    }
   },
   "outputs": [],
   "source": [
    "from pathlib import Path\n",
    "import json\n",
    "import pandas as pd\n",
    "import re\n",
    "import numpy as np\n",
    "import itertools\n",
    "import matplotlib.pyplot as plt\n",
    "import seaborn as sns"
   ]
  },
  {
   "cell_type": "markdown",
   "metadata": {
    "nbgrader": {
     "grade": false,
     "grade_id": "cell-a255980fde0700c3",
     "locked": true,
     "schema_version": 2,
     "solution": false
    }
   },
   "source": [
    "# Hypothesis Testing: Does The Hot Hand Effect Exist?\n",
    "\n",
    "**Due Date: Tuesday, November 20, 2018 at 11:59pm**\n",
    "\n",
    "This homework concerns the game of basketball. If you're unfamiliar with basketball, the first minute of [this youtube video](https://www.youtube.com/watch?v=wYjp2zoqQrs) does a pretty good job of giving you the basic idea.\n",
    "\n",
    "In basketball, the \"hot hands effect\" is a supposed phenomenon in which a person who makes several successful baskets in a row experiences a greater probability of scoring in further attempts.  For example, a player who has \"made\" three sucessful baskets in a row is considered to have a higher probability of making a 4th basket than if they had just missed a shot. In this assignment, we'll use 0 to represent a missed basket and 1 to represent a made basket. Restating the hot hands effect in these terms, under the hot hands theory, a player whose last three shots were `'111'` (three consecutive makes) has a higher chance of making a fourth basket than if their last three shots were `'110'`.  The failed third shot \"resets\" their hot hands.\n",
    "\n",
    "The notion of a hot hand is often considered to be a cognitive fallacy, a tendency for our brains to ascribe more meaning to a random sequence of shots than it rightly should.  People have taken many different approaches to this topic.  This homework shows how one can use statistical testing tools to test the existence of the hot hands effect in basketball.\n",
    "\n",
    "## The Data\n",
    "\n",
    "Shot records for the Golden State Warriors (our local NBA basketball team) from the 2016-2017 season are given to you in the `data_dir` path.  The files are stored in `json` format and are named '{match_date}0{team}.json'.  `match_date` is the date of the game and `team` is either 'GSW' or the abbreviation for the opposing team.  The structure of the data is simple: each file holds shot records for a single game in key/value pairs.  The keys are player names and the values are ordered arrays of shot attempts.  A `1` represents a \"make\" (successful attempt) and a `0` is a \"miss\" (failed attempt).  Although this will perhaps overly simplify the analysis, for this assignment, we will not differentiate between 2-point attempts (2FGA), 3-point attempts (3FGA), and free-throws (FT)."
   ]
  },
  {
   "cell_type": "markdown",
   "metadata": {
    "nbgrader": {
     "grade": false,
     "grade_id": "cell-aeb6ba959d7ee4cf",
     "locked": true,
     "schema_version": 2,
     "solution": false
    }
   },
   "source": [
    "#### Problem 1 \\[5pts\\]\n",
    "\n",
    "Write a function `game_json_to_game_df` that takes a json file and builds a dataframe where each row of the table represents the information about shots for each player. Your table should have three columns `player`, `shots`, and `game`, described below:\n",
    "\n",
    "* `player`: strings, player name\n",
    "* `shots`: strings, the sequence of attempted shots concatenated into a single string e.g. '110101'.\n",
    "* `game`: strings, the name of the json file (without the .json extension)\n",
    "\n",
    "Run the cell below to see an example of the expected output. The index should just be the numbers 0 through N - 1 (i.e. you don't need to do anything special to generate the index)."
   ]
  },
  {
   "cell_type": "code",
   "execution_count": 2,
   "metadata": {
    "nbgrader": {
     "grade": false,
     "grade_id": "cell-3631985320b8bb12",
     "locked": true,
     "schema_version": 2,
     "solution": false
    },
    "scrolled": true
   },
   "outputs": [
    {
     "data": {
      "text/html": [
       "<div>\n",
       "<style scoped>\n",
       "    .dataframe tbody tr th:only-of-type {\n",
       "        vertical-align: middle;\n",
       "    }\n",
       "\n",
       "    .dataframe tbody tr th {\n",
       "        vertical-align: top;\n",
       "    }\n",
       "\n",
       "    .dataframe thead th {\n",
       "        text-align: right;\n",
       "    }\n",
       "</style>\n",
       "<table border=\"1\" class=\"dataframe\">\n",
       "  <thead>\n",
       "    <tr style=\"text-align: right;\">\n",
       "      <th></th>\n",
       "      <th>player</th>\n",
       "      <th>shots</th>\n",
       "      <th>game</th>\n",
       "    </tr>\n",
       "  </thead>\n",
       "  <tbody>\n",
       "    <tr>\n",
       "      <th>0</th>\n",
       "      <td>A. Iguodala</td>\n",
       "      <td>001</td>\n",
       "      <td>201610250GSW</td>\n",
       "    </tr>\n",
       "    <tr>\n",
       "      <th>1</th>\n",
       "      <td>A. Varejao</td>\n",
       "      <td>01</td>\n",
       "      <td>201610250GSW</td>\n",
       "    </tr>\n",
       "    <tr>\n",
       "      <th>2</th>\n",
       "      <td>D. Bertans</td>\n",
       "      <td>11</td>\n",
       "      <td>201610250GSW</td>\n",
       "    </tr>\n",
       "    <tr>\n",
       "      <th>3</th>\n",
       "      <td>D. Dedmon</td>\n",
       "      <td>0010</td>\n",
       "      <td>201610250GSW</td>\n",
       "    </tr>\n",
       "    <tr>\n",
       "      <th>4</th>\n",
       "      <td>D. Green</td>\n",
       "      <td>0010011110100111</td>\n",
       "      <td>201610250GSW</td>\n",
       "    </tr>\n",
       "    <tr>\n",
       "      <th>5</th>\n",
       "      <td>D. Lee</td>\n",
       "      <td>110101</td>\n",
       "      <td>201610250GSW</td>\n",
       "    </tr>\n",
       "    <tr>\n",
       "      <th>6</th>\n",
       "      <td>D. West</td>\n",
       "      <td>10</td>\n",
       "      <td>201610250GSW</td>\n",
       "    </tr>\n",
       "    <tr>\n",
       "      <th>7</th>\n",
       "      <td>I. Clark</td>\n",
       "      <td>0011001000</td>\n",
       "      <td>201610250GSW</td>\n",
       "    </tr>\n",
       "    <tr>\n",
       "      <th>8</th>\n",
       "      <td>J. McGee</td>\n",
       "      <td>100</td>\n",
       "      <td>201610250GSW</td>\n",
       "    </tr>\n",
       "    <tr>\n",
       "      <th>9</th>\n",
       "      <td>J. Simmons</td>\n",
       "      <td>11111101001000001</td>\n",
       "      <td>201610250GSW</td>\n",
       "    </tr>\n",
       "    <tr>\n",
       "      <th>10</th>\n",
       "      <td>K. Anderson</td>\n",
       "      <td>1</td>\n",
       "      <td>201610250GSW</td>\n",
       "    </tr>\n",
       "    <tr>\n",
       "      <th>11</th>\n",
       "      <td>K. Durant</td>\n",
       "      <td>11110010110001001111111</td>\n",
       "      <td>201610250GSW</td>\n",
       "    </tr>\n",
       "    <tr>\n",
       "      <th>12</th>\n",
       "      <td>K. Leonard</td>\n",
       "      <td>011100111111100101110011001111111110</td>\n",
       "      <td>201610250GSW</td>\n",
       "    </tr>\n",
       "    <tr>\n",
       "      <th>13</th>\n",
       "      <td>K. Thompson</td>\n",
       "      <td>0000010110101</td>\n",
       "      <td>201610250GSW</td>\n",
       "    </tr>\n",
       "    <tr>\n",
       "      <th>14</th>\n",
       "      <td>L. Aldridge</td>\n",
       "      <td>01101000110111100111111000</td>\n",
       "      <td>201610250GSW</td>\n",
       "    </tr>\n",
       "    <tr>\n",
       "      <th>15</th>\n",
       "      <td>M. Ginobili</td>\n",
       "      <td>1001000110</td>\n",
       "      <td>201610250GSW</td>\n",
       "    </tr>\n",
       "    <tr>\n",
       "      <th>16</th>\n",
       "      <td>P. Gasol</td>\n",
       "      <td>1000</td>\n",
       "      <td>201610250GSW</td>\n",
       "    </tr>\n",
       "    <tr>\n",
       "      <th>17</th>\n",
       "      <td>P. McCaw</td>\n",
       "      <td>001</td>\n",
       "      <td>201610250GSW</td>\n",
       "    </tr>\n",
       "    <tr>\n",
       "      <th>18</th>\n",
       "      <td>P. Mills</td>\n",
       "      <td>001010110</td>\n",
       "      <td>201610250GSW</td>\n",
       "    </tr>\n",
       "    <tr>\n",
       "      <th>19</th>\n",
       "      <td>S. Curry</td>\n",
       "      <td>011111001111100000110110</td>\n",
       "      <td>201610250GSW</td>\n",
       "    </tr>\n",
       "    <tr>\n",
       "      <th>20</th>\n",
       "      <td>S. Livingston</td>\n",
       "      <td>010</td>\n",
       "      <td>201610250GSW</td>\n",
       "    </tr>\n",
       "    <tr>\n",
       "      <th>21</th>\n",
       "      <td>T. Parker</td>\n",
       "      <td>100011001</td>\n",
       "      <td>201610250GSW</td>\n",
       "    </tr>\n",
       "    <tr>\n",
       "      <th>22</th>\n",
       "      <td>Z. Pachulia</td>\n",
       "      <td>1</td>\n",
       "      <td>201610250GSW</td>\n",
       "    </tr>\n",
       "  </tbody>\n",
       "</table>\n",
       "</div>"
      ],
      "text/plain": [
       "           player                                 shots          game\n",
       "0     A. Iguodala                                   001  201610250GSW\n",
       "1      A. Varejao                                    01  201610250GSW\n",
       "2      D. Bertans                                    11  201610250GSW\n",
       "3       D. Dedmon                                  0010  201610250GSW\n",
       "4        D. Green                      0010011110100111  201610250GSW\n",
       "5          D. Lee                                110101  201610250GSW\n",
       "6         D. West                                    10  201610250GSW\n",
       "7        I. Clark                            0011001000  201610250GSW\n",
       "8        J. McGee                                   100  201610250GSW\n",
       "9      J. Simmons                     11111101001000001  201610250GSW\n",
       "10    K. Anderson                                     1  201610250GSW\n",
       "11      K. Durant               11110010110001001111111  201610250GSW\n",
       "12     K. Leonard  011100111111100101110011001111111110  201610250GSW\n",
       "13    K. Thompson                         0000010110101  201610250GSW\n",
       "14    L. Aldridge            01101000110111100111111000  201610250GSW\n",
       "15    M. Ginobili                            1001000110  201610250GSW\n",
       "16       P. Gasol                                  1000  201610250GSW\n",
       "17       P. McCaw                                   001  201610250GSW\n",
       "18       P. Mills                             001010110  201610250GSW\n",
       "19       S. Curry              011111001111100000110110  201610250GSW\n",
       "20  S. Livingston                                   010  201610250GSW\n",
       "21      T. Parker                             100011001  201610250GSW\n",
       "22    Z. Pachulia                                     1  201610250GSW"
      ]
     },
     "execution_count": 2,
     "metadata": {},
     "output_type": "execute_result"
    }
   ],
   "source": [
    "pd.read_csv('single_file_shot_data_example.csv')"
   ]
  },
  {
   "cell_type": "markdown",
   "metadata": {
    "nbgrader": {
     "grade": false,
     "grade_id": "cell-d9d0b86526737cbb",
     "locked": true,
     "schema_version": 2,
     "solution": false
    }
   },
   "source": [
    "**Hints:** \n",
    "\n",
    "1. You can load a json file as a dictionary with:\n",
    "```\n",
    "with open(json_filename) as f:\n",
    "        data = json.load(f)\n",
    "```\n",
    "1. The `json_filename` given to you is a [`Path object`](https://docs.python.org/3/library/pathlib.html), which has a handy method called `stem` that you might find useful."
   ]
  },
  {
   "cell_type": "code",
   "execution_count": 3,
   "metadata": {
    "nbgrader": {
     "grade": false,
     "grade_id": "cell-1092f815657848dd",
     "locked": false,
     "schema_version": 2,
     "solution": true
    }
   },
   "outputs": [],
   "source": [
    "def game_json_to_game_df(json_filename):\n",
    "### BEGIN SOLUTION\n",
    "    def iterable_to_string(iterable):\n",
    "        return ''.join(map(str, iterable))\n",
    "    \n",
    "    with open(json_filename) as f:\n",
    "        raw_data = json.load(f)    \n",
    "        \n",
    "        data = pd.DataFrame(list(raw_data.items()), \n",
    "                            columns = ['player', 'shots'])\n",
    "        data['game'] = json_filename.stem\n",
    "        data['shots'] = data['shots'].apply(iterable_to_string)\n",
    "        \n",
    "        return data\n",
    "    \n",
    "example = game_json_to_game_df(Path('data/2017/201610250GSW.json'))\n",
    "# example.to_csv('single_file_shot_data_example.csv', index=False)\n",
    "### END SOLUTION    "
   ]
  },
  {
   "cell_type": "code",
   "execution_count": 4,
   "metadata": {
    "nbgrader": {
     "grade": true,
     "grade_id": "cell-9dca42b5fe2e5e81",
     "locked": true,
     "points": 5,
     "schema_version": 2,
     "solution": false
    }
   },
   "outputs": [],
   "source": [
    "datafile_path = Path('data/2017/201610250GSW.json')\n",
    "student_output_201610250GSW = game_json_to_game_df(datafile_path)\n",
    "assert student_output_201610250GSW.shape == (23, 3), \\\n",
    "'The dimensions of your data frame are incorrect'\n",
    "assert 'player' in student_output_201610250GSW.columns.values, \\\n",
    "'You seem to be missing the player column'\n",
    "assert 'shots' in student_output_201610250GSW.columns.values, \\\n",
    "'You seem to be missing the shots column'\n",
    "assert 'game' in student_output_201610250GSW.columns.values, \\\n",
    "'You seem to be missing the game column'\n",
    "expected_output_201610250GSW = pd.read_csv('single_file_shot_data_example.csv')\n",
    "assert(student_output_201610250GSW.equals(expected_output_201610250GSW))"
   ]
  },
  {
   "cell_type": "markdown",
   "metadata": {
    "nbgrader": {
     "grade": false,
     "grade_id": "cell-af11d9be27d6b761",
     "locked": true,
     "schema_version": 2,
     "solution": false
    }
   },
   "source": [
    "#### Problem 2 \\[5pts\\]\n",
    "\n",
    "Read in all 99 `json` files and combine them into a single data frame called `unindexed_shot_data`. This dataframe should have the exact same structure as in the previous part, where the index is just the numbers 0 through N - 1, where N is the total number of rows in ALL files. The following cell shows the first 25 rows of the result you should generate.\n",
    "\n",
    "**Hints:** \n",
    "\n",
    "1. The `ignore_index` property of the `append` method of the `DataFrame` class might be useful.\n",
    "2. The `glob` method of the `Path` class might be useful."
   ]
  },
  {
   "cell_type": "code",
   "execution_count": 5,
   "metadata": {
    "nbgrader": {
     "grade": false,
     "grade_id": "cell-743fd471fe13a3b0",
     "locked": true,
     "schema_version": 2,
     "solution": false
    }
   },
   "outputs": [
    {
     "data": {
      "text/html": [
       "<div>\n",
       "<style scoped>\n",
       "    .dataframe tbody tr th:only-of-type {\n",
       "        vertical-align: middle;\n",
       "    }\n",
       "\n",
       "    .dataframe tbody tr th {\n",
       "        vertical-align: top;\n",
       "    }\n",
       "\n",
       "    .dataframe thead th {\n",
       "        text-align: right;\n",
       "    }\n",
       "</style>\n",
       "<table border=\"1\" class=\"dataframe\">\n",
       "  <thead>\n",
       "    <tr style=\"text-align: right;\">\n",
       "      <th></th>\n",
       "      <th>player</th>\n",
       "      <th>shots</th>\n",
       "      <th>game</th>\n",
       "    </tr>\n",
       "  </thead>\n",
       "  <tbody>\n",
       "    <tr>\n",
       "      <th>0</th>\n",
       "      <td>A. Iguodala</td>\n",
       "      <td>001</td>\n",
       "      <td>201610250GSW</td>\n",
       "    </tr>\n",
       "    <tr>\n",
       "      <th>1</th>\n",
       "      <td>A. Varejao</td>\n",
       "      <td>01</td>\n",
       "      <td>201610250GSW</td>\n",
       "    </tr>\n",
       "    <tr>\n",
       "      <th>2</th>\n",
       "      <td>D. Bertans</td>\n",
       "      <td>11</td>\n",
       "      <td>201610250GSW</td>\n",
       "    </tr>\n",
       "    <tr>\n",
       "      <th>3</th>\n",
       "      <td>D. Dedmon</td>\n",
       "      <td>0010</td>\n",
       "      <td>201610250GSW</td>\n",
       "    </tr>\n",
       "    <tr>\n",
       "      <th>4</th>\n",
       "      <td>D. Green</td>\n",
       "      <td>0010011110100111</td>\n",
       "      <td>201610250GSW</td>\n",
       "    </tr>\n",
       "    <tr>\n",
       "      <th>5</th>\n",
       "      <td>D. Lee</td>\n",
       "      <td>110101</td>\n",
       "      <td>201610250GSW</td>\n",
       "    </tr>\n",
       "    <tr>\n",
       "      <th>6</th>\n",
       "      <td>D. West</td>\n",
       "      <td>10</td>\n",
       "      <td>201610250GSW</td>\n",
       "    </tr>\n",
       "    <tr>\n",
       "      <th>7</th>\n",
       "      <td>I. Clark</td>\n",
       "      <td>0011001000</td>\n",
       "      <td>201610250GSW</td>\n",
       "    </tr>\n",
       "    <tr>\n",
       "      <th>8</th>\n",
       "      <td>J. McGee</td>\n",
       "      <td>100</td>\n",
       "      <td>201610250GSW</td>\n",
       "    </tr>\n",
       "    <tr>\n",
       "      <th>9</th>\n",
       "      <td>J. Simmons</td>\n",
       "      <td>11111101001000001</td>\n",
       "      <td>201610250GSW</td>\n",
       "    </tr>\n",
       "    <tr>\n",
       "      <th>10</th>\n",
       "      <td>K. Anderson</td>\n",
       "      <td>1</td>\n",
       "      <td>201610250GSW</td>\n",
       "    </tr>\n",
       "    <tr>\n",
       "      <th>11</th>\n",
       "      <td>K. Durant</td>\n",
       "      <td>11110010110001001111111</td>\n",
       "      <td>201610250GSW</td>\n",
       "    </tr>\n",
       "    <tr>\n",
       "      <th>12</th>\n",
       "      <td>K. Leonard</td>\n",
       "      <td>011100111111100101110011001111111110</td>\n",
       "      <td>201610250GSW</td>\n",
       "    </tr>\n",
       "    <tr>\n",
       "      <th>13</th>\n",
       "      <td>K. Thompson</td>\n",
       "      <td>0000010110101</td>\n",
       "      <td>201610250GSW</td>\n",
       "    </tr>\n",
       "    <tr>\n",
       "      <th>14</th>\n",
       "      <td>L. Aldridge</td>\n",
       "      <td>01101000110111100111111000</td>\n",
       "      <td>201610250GSW</td>\n",
       "    </tr>\n",
       "    <tr>\n",
       "      <th>15</th>\n",
       "      <td>M. Ginobili</td>\n",
       "      <td>1001000110</td>\n",
       "      <td>201610250GSW</td>\n",
       "    </tr>\n",
       "    <tr>\n",
       "      <th>16</th>\n",
       "      <td>P. Gasol</td>\n",
       "      <td>1000</td>\n",
       "      <td>201610250GSW</td>\n",
       "    </tr>\n",
       "    <tr>\n",
       "      <th>17</th>\n",
       "      <td>P. McCaw</td>\n",
       "      <td>001</td>\n",
       "      <td>201610250GSW</td>\n",
       "    </tr>\n",
       "    <tr>\n",
       "      <th>18</th>\n",
       "      <td>P. Mills</td>\n",
       "      <td>001010110</td>\n",
       "      <td>201610250GSW</td>\n",
       "    </tr>\n",
       "    <tr>\n",
       "      <th>19</th>\n",
       "      <td>S. Curry</td>\n",
       "      <td>011111001111100000110110</td>\n",
       "      <td>201610250GSW</td>\n",
       "    </tr>\n",
       "    <tr>\n",
       "      <th>20</th>\n",
       "      <td>S. Livingston</td>\n",
       "      <td>010</td>\n",
       "      <td>201610250GSW</td>\n",
       "    </tr>\n",
       "    <tr>\n",
       "      <th>21</th>\n",
       "      <td>T. Parker</td>\n",
       "      <td>100011001</td>\n",
       "      <td>201610250GSW</td>\n",
       "    </tr>\n",
       "    <tr>\n",
       "      <th>22</th>\n",
       "      <td>Z. Pachulia</td>\n",
       "      <td>1</td>\n",
       "      <td>201610250GSW</td>\n",
       "    </tr>\n",
       "    <tr>\n",
       "      <th>23</th>\n",
       "      <td>A. Davis</td>\n",
       "      <td>111011000011001110110110111100100111100111001</td>\n",
       "      <td>201610280NOP</td>\n",
       "    </tr>\n",
       "    <tr>\n",
       "      <th>24</th>\n",
       "      <td>A. Iguodala</td>\n",
       "      <td>0101110</td>\n",
       "      <td>201610280NOP</td>\n",
       "    </tr>\n",
       "  </tbody>\n",
       "</table>\n",
       "</div>"
      ],
      "text/plain": [
       "           player                                          shots          game\n",
       "0     A. Iguodala                                            001  201610250GSW\n",
       "1      A. Varejao                                             01  201610250GSW\n",
       "2      D. Bertans                                             11  201610250GSW\n",
       "3       D. Dedmon                                           0010  201610250GSW\n",
       "4        D. Green                               0010011110100111  201610250GSW\n",
       "5          D. Lee                                         110101  201610250GSW\n",
       "6         D. West                                             10  201610250GSW\n",
       "7        I. Clark                                     0011001000  201610250GSW\n",
       "8        J. McGee                                            100  201610250GSW\n",
       "9      J. Simmons                              11111101001000001  201610250GSW\n",
       "10    K. Anderson                                              1  201610250GSW\n",
       "11      K. Durant                        11110010110001001111111  201610250GSW\n",
       "12     K. Leonard           011100111111100101110011001111111110  201610250GSW\n",
       "13    K. Thompson                                  0000010110101  201610250GSW\n",
       "14    L. Aldridge                     01101000110111100111111000  201610250GSW\n",
       "15    M. Ginobili                                     1001000110  201610250GSW\n",
       "16       P. Gasol                                           1000  201610250GSW\n",
       "17       P. McCaw                                            001  201610250GSW\n",
       "18       P. Mills                                      001010110  201610250GSW\n",
       "19       S. Curry                       011111001111100000110110  201610250GSW\n",
       "20  S. Livingston                                            010  201610250GSW\n",
       "21      T. Parker                                      100011001  201610250GSW\n",
       "22    Z. Pachulia                                              1  201610250GSW\n",
       "23       A. Davis  111011000011001110110110111100100111100111001  201610280NOP\n",
       "24    A. Iguodala                                        0101110  201610280NOP"
      ]
     },
     "execution_count": 5,
     "metadata": {},
     "output_type": "execute_result"
    }
   ],
   "source": [
    "pd.read_csv('every_file_shot_data_first_25_rows.csv')"
   ]
  },
  {
   "cell_type": "code",
   "execution_count": 6,
   "metadata": {
    "nbgrader": {
     "grade": false,
     "grade_id": "cell-66ad45ac1aed11fd",
     "locked": false,
     "schema_version": 2,
     "solution": true
    }
   },
   "outputs": [],
   "source": [
    "data_dir = Path('data/2017')\n",
    "unindexed_shot_data = ...\n",
    "\n",
    "### BEGIN SOLUTION\n",
    "unindexed_shot_data = pd.DataFrame(columns = ['player', 'shots', 'game'])\n",
    "\n",
    "for file in data_dir.glob('*.json'):\n",
    "    data = game_json_to_game_df(file)   \n",
    "    unindexed_shot_data = unindexed_shot_data.append(data, ignore_index=True)\n",
    "    \n",
    "#unindexed_shot_data.iloc[0:25, :].to_csv('every_file_shot_data_first_25_rows.csv', index=False)    \n",
    "### END SOLUTION"
   ]
  },
  {
   "cell_type": "code",
   "execution_count": 7,
   "metadata": {
    "nbgrader": {
     "grade": true,
     "grade_id": "cell-af4b53215a7b8662",
     "locked": true,
     "points": 2,
     "schema_version": 2,
     "solution": false
    }
   },
   "outputs": [],
   "source": [
    "assert unindexed_shot_data.shape == (2144, 3), \\\n",
    "'The dimensions of shot_data are off'\n",
    "assert 'shots' in unindexed_shot_data.columns.values, \\\n",
    "'You seem to be missing the shots column'\n",
    "assert '201610250GSW' in unindexed_shot_data['game'].values, \\\n",
    "'201610280NOP is missing from the game column of the data frame'\n",
    "assert 'K. Thompson' in unindexed_shot_data['player'].values, \\\n",
    "'K. Thompson is missing from the player column of the data frame'\n",
    "assert len(unindexed_shot_data['shots'].values.sum()) == 22051, \\\n",
    "'The total number of attempts seems off'"
   ]
  },
  {
   "cell_type": "markdown",
   "metadata": {
    "nbgrader": {
     "grade": false,
     "grade_id": "cell-554701d245a1c549",
     "locked": true,
     "schema_version": 2,
     "solution": false
    }
   },
   "source": [
    "Run the line of code below. It converts your integer-indexed data frame into a multi-indexed one, where the first index is `game`, and the second index is `player`."
   ]
  },
  {
   "cell_type": "code",
   "execution_count": 8,
   "metadata": {
    "nbgrader": {
     "grade": false,
     "grade_id": "cell-3ccd0ae077c0319b",
     "locked": true,
     "schema_version": 2,
     "solution": false
    },
    "scrolled": true
   },
   "outputs": [
    {
     "data": {
      "text/html": [
       "<div>\n",
       "<style scoped>\n",
       "    .dataframe tbody tr th:only-of-type {\n",
       "        vertical-align: middle;\n",
       "    }\n",
       "\n",
       "    .dataframe tbody tr th {\n",
       "        vertical-align: top;\n",
       "    }\n",
       "\n",
       "    .dataframe thead th {\n",
       "        text-align: right;\n",
       "    }\n",
       "</style>\n",
       "<table border=\"1\" class=\"dataframe\">\n",
       "  <thead>\n",
       "    <tr style=\"text-align: right;\">\n",
       "      <th></th>\n",
       "      <th></th>\n",
       "      <th>shots</th>\n",
       "    </tr>\n",
       "    <tr>\n",
       "      <th>game</th>\n",
       "      <th>player</th>\n",
       "      <th></th>\n",
       "    </tr>\n",
       "  </thead>\n",
       "  <tbody>\n",
       "    <tr>\n",
       "      <th rowspan=\"5\" valign=\"top\">201610250GSW</th>\n",
       "      <th>A. Iguodala</th>\n",
       "      <td>001</td>\n",
       "    </tr>\n",
       "    <tr>\n",
       "      <th>A. Varejao</th>\n",
       "      <td>01</td>\n",
       "    </tr>\n",
       "    <tr>\n",
       "      <th>D. Bertans</th>\n",
       "      <td>11</td>\n",
       "    </tr>\n",
       "    <tr>\n",
       "      <th>D. Dedmon</th>\n",
       "      <td>0010</td>\n",
       "    </tr>\n",
       "    <tr>\n",
       "      <th>D. Green</th>\n",
       "      <td>0010011110100111</td>\n",
       "    </tr>\n",
       "  </tbody>\n",
       "</table>\n",
       "</div>"
      ],
      "text/plain": [
       "                                     shots\n",
       "game         player                       \n",
       "201610250GSW A. Iguodala               001\n",
       "             A. Varejao                 01\n",
       "             D. Bertans                 11\n",
       "             D. Dedmon                0010\n",
       "             D. Green     0010011110100111"
      ]
     },
     "execution_count": 8,
     "metadata": {},
     "output_type": "execute_result"
    }
   ],
   "source": [
    "shot_data = unindexed_shot_data.set_index(['game', 'player'])\n",
    "shot_data.head(5)"
   ]
  },
  {
   "cell_type": "code",
   "execution_count": 9,
   "metadata": {
    "nbgrader": {
     "grade": true,
     "grade_id": "cell-c58744387bb74eed",
     "locked": true,
     "points": 3,
     "schema_version": 2,
     "solution": false
    }
   },
   "outputs": [],
   "source": [
    "assert shot_data.shape == (2144, 1), \\\n",
    "'The dimensions of shot_data are off'\n",
    "assert 'shots' in shot_data.columns.values, \\\n",
    "'You seem to be missing the shots column'\n",
    "assert '201610250GSW' in shot_data.index.get_level_values(0), \\\n",
    "'201610250GSW is missing from the index'\n",
    "assert 'K. Thompson' in shot_data.index.get_level_values(1), \\\n",
    "'K. Thompson is missing from the index'\n",
    "assert len(shot_data['shots'].values.sum()) == 22051, \\\n",
    "'The total number of attempts seems off'"
   ]
  },
  {
   "cell_type": "markdown",
   "metadata": {
    "nbgrader": {
     "grade": false,
     "grade_id": "cell-3dd46b9e024d0bff",
     "locked": true,
     "schema_version": 2,
     "solution": false
    }
   },
   "source": [
    "## The Hypothesis\n",
    "\n",
    "Our __null hypothesis__ is that there is no hot hands effect, meaning that the probability of making shots do not change when a player makes several baskets in a row.  In this null world, every permutation of a given shot sequence is equally likely.  For example `'00111'` is just as likely as `'10101'`, `'10011'`, and `'01101'`.  In a universe where hot hands exists, the first sequence would be more likely than the other three.\n",
    "\n",
    "Often in modeling the world, we begin by specifying a simplified model just to see if the question makes sense.  We've hidden some other strong assumptions (perhaps erroneously) about the shots in our model.  Here are some things we are not controlling for:\n",
    "\n",
    "* Opposing defenders affect the difficulty of a shot\n",
    "* Distance affects the difficulty of a shot\n",
    "* Shot types vary in difficulty (3-pointers, 2-points, free-throws)\n",
    "* Team mate behavior may create more favorable scoring conditions\n",
    "\n",
    "## Understanding the Data\n",
    "\n",
    "Recall that as good data scientists, we should strive to understand our data before we analyze it (data provenance).  Let's take a look at [Klay Thompson's shooting performance from Dec. 5, 2016 versus the Indiana Pacers](https://www.basketball-reference.com/play-index/shooting.fcgi?player_id=thompkl01&year_id=2017&opp_id=IND&game_location=H).  Klay scored 60 points in 29 minutes of playing time. For those of you unfamiliar with basketball, this is a crazy number of points to score while only being in a game for 30 minutes. In the [entire history of professional basketball](https://www.basketball-reference.com/play-index/pgl_finder.cgi?request=1&match=game&is_playoffs=N&age_min=0&age_max=99&pos_is_g=Y&pos_is_gf=Y&pos_is_f=Y&pos_is_fg=Y&pos_is_fc=Y&pos_is_c=Y&pos_is_cf=Y&c1stat=mp&c1comp=lt&c1val=30&order_by=pts), nobody has come close (note these records are spotty before 1983). \n",
    "\n",
    "During this game, Klay took a total of 44 shots, landing 10/11 1 point free-throws, 13/19 2 point shots, and 8/14 3 point shots. [At least one news story](https://www.usatoday.com/story/sports/nba/warriors/2016/12/06/klay-thompson-60-points-outburst-by-the-numbers-warriors-pacers/95030316/) specifically called him out as having a 'hot hand' during this game.\n",
    "\n",
    "We'll start by looking at this game to make sure we understanding the structure of the data.\n",
    "\n",
    "#### Problem 3 \\[1pt\\]\n",
    "\n",
    "We first summarize Klay's sequence of shot results.  Calculate his number of `attempts`, number of `makes` (number of successes, denoted as 1), and `accuracy` for this one game. The cell below stores Klay's shots in the game described above into the klay_example variable. Your answer should go in the cell below that."
   ]
  },
  {
   "cell_type": "code",
   "execution_count": 10,
   "metadata": {
    "nbgrader": {
     "grade": false,
     "grade_id": "cell-5681d70861fcac89",
     "locked": true,
     "schema_version": 2,
     "solution": false
    }
   },
   "outputs": [
    {
     "data": {
      "text/plain": [
       "'11011110010111111001110111101110111101010101'"
      ]
     },
     "execution_count": 10,
     "metadata": {},
     "output_type": "execute_result"
    }
   ],
   "source": [
    "klay_example = shot_data.loc[('201612050GSW', 'K. Thompson'), 'shots']\n",
    "klay_example"
   ]
  },
  {
   "cell_type": "code",
   "execution_count": 11,
   "metadata": {
    "nbgrader": {
     "grade": false,
     "grade_id": "cell-03a06efd0e3c2464",
     "locked": false,
     "schema_version": 2,
     "solution": true
    }
   },
   "outputs": [
    {
     "name": "stdout",
     "output_type": "stream",
     "text": [
      "\n",
      "attempts:  44\n",
      "makes:     31\n",
      "accuracy:  0.7\n",
      "\n"
     ]
    }
   ],
   "source": [
    "attempts_ex = ...\n",
    "makes_ex = ...\n",
    "accuracy_ex = ...\n",
    "\n",
    "### BEGIN SOLUTION\n",
    "attempts_ex = len(klay_example)\n",
    "makes_ex = len(re.findall('1', klay_example))\n",
    "accuracy_ex = makes_ex / attempts_ex\n",
    "### END SOLUTION\n",
    "\n",
    "print(f\"\"\"\n",
    "attempts:  {attempts_ex}\n",
    "makes:     {makes_ex}\n",
    "accuracy:  {round(accuracy_ex, 2)}\n",
    "\"\"\")"
   ]
  },
  {
   "cell_type": "code",
   "execution_count": 12,
   "metadata": {
    "nbgrader": {
     "grade": true,
     "grade_id": "cell-25798f7ccd60ff29",
     "locked": true,
     "points": 1,
     "schema_version": 2,
     "solution": false
    }
   },
   "outputs": [],
   "source": [
    "assert attempts_ex == 44\n",
    "assert makes_ex == 31\n",
    "assert round(accuracy_ex, 2) == 0.7"
   ]
  },
  {
   "cell_type": "markdown",
   "metadata": {
    "nbgrader": {
     "grade": false,
     "grade_id": "cell-39c6eda4483a9ff9",
     "locked": true,
     "schema_version": 2,
     "solution": false
    }
   },
   "source": [
    "We might be interested in the number of runs of various lengths that Thompson makes over the course of the game.  A run of length k is defined as k consecutive successes in a row.  We will include overlapping runs in our counts.  For example, the shot record `'1111'` contains three runs of length 2: <span style=\"background-color:yellow\"><b>11</b></span>11, 1<span style=\"background-color:yellow\"><b>11</b></span>1, 11<span style=\"background-color:yellow\"><b>11</b></span>).\n",
    "\n",
    "#### Problem 4 \\[2pts\\]\n",
    "\n",
    "How many runs of length 2 did Thompson make in the Dec. 5, 2016 game?  To answer this question, we used a regular expression, but you're free to answer this however you'd like (with code, of course).  In our regular expression we make use of [positive lookbehinds](https://docs.python.org/2/library/re.html) `(?<=...)`."
   ]
  },
  {
   "cell_type": "code",
   "execution_count": 13,
   "metadata": {
    "nbgrader": {
     "grade": false,
     "grade_id": "cell-c1e5fdbfc065bb7f",
     "locked": false,
     "schema_version": 2,
     "solution": true
    }
   },
   "outputs": [
    {
     "name": "stdout",
     "output_type": "stream",
     "text": [
      "\n",
      "Klay Thompson made 19 runs of length 2 in the game against the Indiana Pacers.\n",
      "\n"
     ]
    }
   ],
   "source": [
    "run_length_2 = ...\n",
    "\n",
    "### BEGIN SOLUTION\n",
    "run_length_2 = len(re.findall(f'(?<=1)1', klay_example))\n",
    "### END SOLUTION\n",
    "\n",
    "print(f\"\"\"\n",
    "Klay Thompson made {run_length_2} runs of length 2 in the game against the Indiana Pacers.\n",
    "\"\"\")"
   ]
  },
  {
   "cell_type": "code",
   "execution_count": 14,
   "metadata": {
    "nbgrader": {
     "grade": true,
     "grade_id": "cell-703f4950b29e6738",
     "locked": true,
     "points": 2,
     "schema_version": 2,
     "solution": false
    }
   },
   "outputs": [],
   "source": [
    "assert run_length_2 == 19"
   ]
  },
  {
   "cell_type": "markdown",
   "metadata": {
    "nbgrader": {
     "grade": false,
     "grade_id": "cell-63252f6c80f57212",
     "locked": true,
     "schema_version": 2,
     "solution": false
    }
   },
   "source": [
    "#### Problem 5 \\[2pts\\]\n",
    "\n",
    "How many runs of length 3?"
   ]
  },
  {
   "cell_type": "code",
   "execution_count": 15,
   "metadata": {
    "nbgrader": {
     "grade": false,
     "grade_id": "cell-744dc7c0528626d2",
     "locked": false,
     "schema_version": 2,
     "solution": true
    }
   },
   "outputs": [
    {
     "name": "stdout",
     "output_type": "stream",
     "text": [
      "\n",
      "Klay Thompson made 12 runs of length 3 in the game against the Indiana Pacers.\n",
      "\n"
     ]
    }
   ],
   "source": [
    "run_length_3 = ...\n",
    "\n",
    "### BEGIN SOLUTION\n",
    "run_length_3 = len(re.findall(f'(?<=11)1', klay_example))\n",
    "### END SOLUTION\n",
    "\n",
    "print(f\"\"\"\n",
    "Klay Thompson made {run_length_3} runs of length 3 in the game against the Indiana Pacers.\n",
    "\"\"\")"
   ]
  },
  {
   "cell_type": "code",
   "execution_count": 16,
   "metadata": {
    "nbgrader": {
     "grade": true,
     "grade_id": "cell-e52ee68ba7036ac3",
     "locked": true,
     "points": 2,
     "schema_version": 2,
     "solution": false
    }
   },
   "outputs": [],
   "source": [
    "# Empty, soulless cells like these contain hidden tests\n",
    "# Do not delete\n",
    "### BEGIN HIDDEN TESTS\n",
    "assert run_length_3 == 12\n",
    "### END HIDDEN TESTS"
   ]
  },
  {
   "cell_type": "markdown",
   "metadata": {
    "nbgrader": {
     "grade": false,
     "grade_id": "cell-cedd8e9acaef5cd9",
     "locked": true,
     "schema_version": 2,
     "solution": false
    }
   },
   "source": [
    "#### Problem 6 \\[10pts\\]\n",
    "\n",
    "Let's generalize the work we did above by writing a function `count_runs`. `count_runs` takes two arguments:\n",
    "\n",
    "* `shot_sequences`: a pandas series of strings, each representing a sequence of shots for a player in a game\n",
    "* `run_length`: integer, the run length to count\n",
    "\n",
    "`count_runs` should return a pandas series, where the ith element is the number of occurrences of `run_length` in the ith sequence in `shot_sequences`.\n",
    "\n",
    "Some example input/outputs for `count_runs` are given below:\n",
    "\n",
    "* `count_runs(pd.Series(['111', '000', '011', '000']), 2)` should return `pd.Series([2, 0, 1, 0])`\n",
    "* `count_runs(pd.Series(['1100110011']), 2)` should return `pd.Series([3])`\n",
    "\n",
    "For convenience, `count_runs` should also work if `shot_sequences` is a single string representing a single game, e.g.\n",
    "\n",
    "`count_runs((1100110011), 2)` should return `pd.Series([3])`"
   ]
  },
  {
   "cell_type": "code",
   "execution_count": 17,
   "metadata": {
    "nbgrader": {
     "grade": false,
     "grade_id": "cell-341b0840616bfa7e",
     "locked": false,
     "schema_version": 2,
     "solution": true
    }
   },
   "outputs": [],
   "source": [
    "def count_runs(shot_sequences, run_length):\n",
    "    \"\"\"\n",
    "    Counts consecutive occurences of an event\n",
    "    \n",
    "    shot_sequences: a pandas series of strings, each representing a sequence of shots for a player in a game\n",
    "    run_length: integer, the run length to count\n",
    "    \n",
    "    return: pd.Series of the number of times a run of length run_length occurred in each shot_sequence\n",
    "    \"\"\"\n",
    "    \n",
    "    ### BEGIN SOLUTION\n",
    "    if isinstance(shot_sequences, str):\n",
    "        shot_sequences = pd.Series(shot_sequences)\n",
    "        \n",
    "    return shot_sequences.str.count(f'(?<={\"1\"*(run_length-1)})1')\n",
    "    ### END SOLUTION"
   ]
  },
  {
   "cell_type": "code",
   "execution_count": 18,
   "metadata": {
    "nbgrader": {
     "grade": true,
     "grade_id": "cell-31c253798dda640e",
     "locked": true,
     "points": 3,
     "schema_version": 2,
     "solution": false
    }
   },
   "outputs": [],
   "source": [
    "assert count_runs(pd.Series(['111', '000', '011', '000']), 2).equals(pd.Series([2, 0, 1, 0])), \\\n",
    "'There should be 2, 0, 1, and 0 runs of length 2, respectively.'\n",
    "assert count_runs(pd.Series(['1100110011']), 2).equals(pd.Series([3])), \\\n",
    "'There should be 1 run of length 3'\n",
    "assert count_runs('000', 1).equals(pd.Series(0)), \\\n",
    "'There should be 0 runs of 1, and your code must support string inputs (hint: if the input a string, convert it into a pandas series)'"
   ]
  },
  {
   "cell_type": "code",
   "execution_count": 19,
   "metadata": {
    "nbgrader": {
     "grade": true,
     "grade_id": "cell-1c59fea247495e0d",
     "locked": true,
     "points": 7,
     "schema_version": 2,
     "solution": false
    }
   },
   "outputs": [],
   "source": [
    "# *Leers*\n",
    "### BEGIN HIDDEN TESTS\n",
    "assert count_runs('101101', 2).equals(pd.Series(1)), \\\n",
    "'There should be 1 run of 11'\n",
    "assert count_runs('110011', 2).equals(pd.Series(2)), \\\n",
    "'There should be 2 runs of 11'\n",
    "assert count_runs('1111', 2).equals(pd.Series(3)), \\\n",
    "'There should be 3 runs of 11'\n",
    "assert count_runs(pd.Series(['000', '101101']), 2).equals(pd.Series([0, 1])), \\\n",
    "'count_runs should work on a pd.Series'\n",
    "### END HIDDEN TESTS"
   ]
  },
  {
   "cell_type": "markdown",
   "metadata": {
    "nbgrader": {
     "grade": false,
     "grade_id": "cell-b867e7bea1259968",
     "locked": true,
     "schema_version": 2,
     "solution": false
    }
   },
   "source": [
    "#### Problem 7 \\[5pts\\]\n",
    "\n",
    "Use `count_runs` to transform the data as follows: for each player, count the number of times they have made a run of length $k$ where $k = 1, 2, 3, ..., 10$.  The column names should be `str(k)` and the index be the player names.  A sample of the output is given below for three players in the data.  The count should be across all games played by the player across the entire dataset."
   ]
  },
  {
   "cell_type": "code",
   "execution_count": 20,
   "metadata": {
    "nbgrader": {
     "grade": false,
     "grade_id": "cell-e14729dc5f29bc1b",
     "locked": true,
     "schema_version": 2,
     "solution": false
    }
   },
   "outputs": [
    {
     "data": {
      "text/html": [
       "<div>\n",
       "<style scoped>\n",
       "    .dataframe tbody tr th:only-of-type {\n",
       "        vertical-align: middle;\n",
       "    }\n",
       "\n",
       "    .dataframe tbody tr th {\n",
       "        vertical-align: top;\n",
       "    }\n",
       "\n",
       "    .dataframe thead th {\n",
       "        text-align: right;\n",
       "    }\n",
       "</style>\n",
       "<table border=\"1\" class=\"dataframe\">\n",
       "  <thead>\n",
       "    <tr style=\"text-align: right;\">\n",
       "      <th></th>\n",
       "      <th>1</th>\n",
       "      <th>2</th>\n",
       "      <th>3</th>\n",
       "      <th>4</th>\n",
       "      <th>5</th>\n",
       "      <th>6</th>\n",
       "      <th>7</th>\n",
       "      <th>8</th>\n",
       "      <th>9</th>\n",
       "      <th>10</th>\n",
       "    </tr>\n",
       "    <tr>\n",
       "      <th>player</th>\n",
       "      <th></th>\n",
       "      <th></th>\n",
       "      <th></th>\n",
       "      <th></th>\n",
       "      <th></th>\n",
       "      <th></th>\n",
       "      <th></th>\n",
       "      <th></th>\n",
       "      <th></th>\n",
       "      <th></th>\n",
       "    </tr>\n",
       "  </thead>\n",
       "  <tbody>\n",
       "    <tr>\n",
       "      <th>K. Thompson</th>\n",
       "      <td>950</td>\n",
       "      <td>491</td>\n",
       "      <td>251</td>\n",
       "      <td>126</td>\n",
       "      <td>62</td>\n",
       "      <td>31</td>\n",
       "      <td>13</td>\n",
       "      <td>4</td>\n",
       "      <td>1</td>\n",
       "      <td>0</td>\n",
       "    </tr>\n",
       "    <tr>\n",
       "      <th>S. Curry</th>\n",
       "      <td>1269</td>\n",
       "      <td>714</td>\n",
       "      <td>392</td>\n",
       "      <td>200</td>\n",
       "      <td>94</td>\n",
       "      <td>41</td>\n",
       "      <td>14</td>\n",
       "      <td>5</td>\n",
       "      <td>2</td>\n",
       "      <td>1</td>\n",
       "    </tr>\n",
       "    <tr>\n",
       "      <th>K. Durant</th>\n",
       "      <td>1128</td>\n",
       "      <td>695</td>\n",
       "      <td>410</td>\n",
       "      <td>243</td>\n",
       "      <td>136</td>\n",
       "      <td>80</td>\n",
       "      <td>44</td>\n",
       "      <td>24</td>\n",
       "      <td>14</td>\n",
       "      <td>7</td>\n",
       "    </tr>\n",
       "  </tbody>\n",
       "</table>\n",
       "</div>"
      ],
      "text/plain": [
       "                1    2    3    4    5   6   7   8   9  10\n",
       "player                                                   \n",
       "K. Thompson   950  491  251  126   62  31  13   4   1   0\n",
       "S. Curry     1269  714  392  200   94  41  14   5   2   1\n",
       "K. Durant    1128  695  410  243  136  80  44  24  14   7"
      ]
     },
     "execution_count": 20,
     "metadata": {},
     "output_type": "execute_result"
    }
   ],
   "source": [
    "pd.read_csv('count_runs_example.csv', index_col='player')"
   ]
  },
  {
   "cell_type": "code",
   "execution_count": 21,
   "metadata": {
    "nbgrader": {
     "grade": false,
     "grade_id": "cell-ff6554d3f2d42f15",
     "locked": false,
     "schema_version": 2,
     "solution": true
    }
   },
   "outputs": [],
   "source": [
    "run_counts = ...\n",
    "\n",
    "### BEGIN SOLUTION\n",
    "run_counts = shot_data.copy()\n",
    "for run_len in range(1, 11):\n",
    "    run_counts[f'{run_len}'] = count_runs(run_counts['shots'], run_len)\n",
    "\n",
    "run_counts = run_counts.groupby('player').sum()\n",
    "\n",
    "# For example csv\n",
    "# players = ['K. Thompson', 'S. Curry', 'K. Durant']\n",
    "# run_counts.loc[players].to_csv('count_runs_example.csv')\n",
    "### END SOLUTION"
   ]
  },
  {
   "cell_type": "code",
   "execution_count": 22,
   "metadata": {
    "nbgrader": {
     "grade": true,
     "grade_id": "cell-ff89d7194d2d07ab",
     "locked": true,
     "points": 5,
     "schema_version": 2,
     "solution": false
    }
   },
   "outputs": [],
   "source": [
    "assert pd.api.types.is_string_dtype(run_counts.index), \\\n",
    "'Index should consist of strings.'\n",
    "assert pd.api.types.is_string_dtype(run_counts.columns), \\\n",
    "'Column names should be strings.'\n",
    "assert run_counts.loc['A. Abrines', '1'] == 8, \\\n",
    "'A. Abrines should have 8 single makes.'\n",
    "assert run_counts.loc['K. Thompson'].sum() == 1929, \\\n",
    "\"The sum of K Thompson's values seems off.\""
   ]
  },
  {
   "cell_type": "markdown",
   "metadata": {
    "nbgrader": {
     "grade": false,
     "grade_id": "cell-eb09e3082795f0c3",
     "locked": true,
     "schema_version": 2,
     "solution": false
    }
   },
   "source": [
    "So far, we've just been exploring the data. The `run_counts` table you built above does not provide us any sort of information about the validity of the hot hands hypothesis. \n",
    "\n",
    "`run_counts` does seem to indicate that very long streaks are pretty rare. We'll use this as a starting point for our analysis in the next section."
   ]
  },
  {
   "cell_type": "markdown",
   "metadata": {
    "nbgrader": {
     "grade": false,
     "grade_id": "cell-9207d613c5ff654e",
     "locked": true,
     "schema_version": 2,
     "solution": false
    }
   },
   "source": [
    "## Defining a Test Statistic\n",
    "\n",
    "People who refer to \"hot hands\" often treat it as Justice Potter Stewart treats obscenity: [\"I know it when I see it.\"](https://en.wikipedia.org/wiki/I_know_it_when_I_see_it)  As data scientists, this isn't good enough for us.  Instead, we should think about how to quantify the question in an empirically verifiable way.\n",
    "\n",
    "Unfortunately, it's not immediately clear how we might test the null hypothesis.  In other hypothesis test settings like website A/B testing and drug efficacy, we have obvious choices for important and measurable outcomes to demonstrate increases in revenue or positive health impacts, respectively.\n",
    "\n",
    "However, the hot hands is not as well-defined, so we're going to try a few things that seem to have the flavor of measuring \"streakiness\".\n",
    "\n",
    "#### Problem 8 \\[10pts\\]\n",
    "\n",
    "Our first attempt at a test statistic will be the length of the longest streak. We saw in the previous section that long runs were rare, so perhaps we can use the occurrence of long runs as evidence either for or against the hot hands hypothesis.\n",
    "\n",
    "Write a function `find_longest_run` that computes this test statistics. Specifically, `find_longest_run` should takes a `pd.Series` of shot sequences and returns a `pd.Series` of the lengths of the longest make sequences (consecutive 1s) in each sequence.  As with `run_counts`, for convenience, make the function work for a python string input as well.\n",
    "\n",
    "For example:\n",
    "* `find_longest_run(pd.Series(['111', '000', '011', '000']))` should return `pd.Series([3, 0, 2, 0])`\n",
    "* `find_longest_run(pd.Series(['1100110011']))` should return `pd.Series([2])`\n",
    "* `find_longest_run('1100110011')` should return `pd.Series([2])`"
   ]
  },
  {
   "cell_type": "code",
   "execution_count": 23,
   "metadata": {
    "nbgrader": {
     "grade": false,
     "grade_id": "cell-9d1647cb985986a5",
     "locked": false,
     "schema_version": 2,
     "solution": true
    }
   },
   "outputs": [],
   "source": [
    "def find_longest_run(shot_sequences):\n",
    "    \"\"\"\n",
    "    Finds longest run in a pd.Series of shot_sequences\n",
    "    \n",
    "    shot_sequences: pd.Series (string) shot data for a set of games or a single python string\n",
    "       to be coerced into a pd.Series\n",
    "    \n",
    "    return: as pd.Series of the lengths of longest sequences of 1s in each game\n",
    "    \"\"\"\n",
    "    ### BEGIN SOLUTION\n",
    "    if isinstance(shot_sequences, str):\n",
    "        shot_sequences = pd.Series(shot_sequences)\n",
    "    \n",
    "    return shot_sequences.str.split('0').apply(lambda x: max(map(len, x)))\n",
    "    ### END SOLUTION"
   ]
  },
  {
   "cell_type": "code",
   "execution_count": 24,
   "metadata": {
    "nbgrader": {
     "grade": true,
     "grade_id": "cell-5ffd01bcab624bd5",
     "locked": true,
     "points": 3,
     "schema_version": 2,
     "solution": false
    }
   },
   "outputs": [],
   "source": [
    "assert isinstance(find_longest_run(klay_example), pd.Series), \\\n",
    "'The output should be a pd.Series'\n",
    "assert find_longest_run(pd.Series(['111', '000', '011', '000'])).equals(pd.Series([3, 0, 2, 0])), \\\n",
    "'The longest runs should be of length 3, 0, 2, and 0, respectively.'\n",
    "assert find_longest_run(pd.Series(['1100110011'])).equals(pd.Series([2])), \\\n",
    "'The longest run should be of length 2.'"
   ]
  },
  {
   "cell_type": "code",
   "execution_count": 25,
   "metadata": {
    "nbgrader": {
     "grade": true,
     "grade_id": "cell-16c7aa3361bc7402",
     "locked": true,
     "points": 7,
     "schema_version": 2,
     "solution": false
    }
   },
   "outputs": [],
   "source": [
    "# Nothing to see here.  Move along\n",
    "### BEGIN HIDDEN TESTS\n",
    "assert find_longest_run(pd.Series(klay_example)).equals(pd.Series(6)), \\\n",
    "'The longest run in the klay example game is 6.'\n",
    "assert find_longest_run(pd.Series(['0001', '0001000110', '1010001110001', '0001010111101010110'])).equals(pd.Series([1, 2, 3, 4])), \\\n",
    "'find_longest_run should work on pd.Series with many strings'\n",
    "assert find_longest_run(klay_example).equals(pd.Series(6)), \\\n",
    "'The longest run in the klay example game is 6, and find_longest_run should work for a string input'\n",
    "### END HIDDEN TESTS"
   ]
  },
  {
   "cell_type": "markdown",
   "metadata": {
    "nbgrader": {
     "grade": false,
     "grade_id": "cell-b2eb1a5c041ee70a",
     "locked": true,
     "schema_version": 2,
     "solution": false
    }
   },
   "source": [
    "#### Problem 9 \\[10pts\\]\n",
    "\n",
    "If you look at the test inputs above, you'll see that the extreme game featuring Klay Thompson scoring 60 points in 29 minutes has a longest run length of 6.\n",
    "\n",
    "Let's try to understand whether this value for our test statistic is indicative of Klay having a hot hand during this game. To do this, we need to know how 6 stacks up as a streak compared to a player similar to Klay but who definitely does not have a hot hand effect.\n",
    "\n",
    "How do we find data on such a player?  Well, **under the null hypothesis, Klay *himself* is such a player**, and the shot record we observe is really a sequence of independent shots.  This suggests a bootstrap procedure to estimate the sampling distribution of longest runs.  Write a function called `bootstrap_longest_run` that simulates the sampling distribution of the `longest_run` test statistic under the null hypothesis given the shot record of a single game. For example, `bootstrap_longest_run(klay_example, 100)` should return a pandas series of longest runs for 100 simulated games, where the simulated games are bootstrapped from the Klay example. "
   ]
  },
  {
   "cell_type": "code",
   "execution_count": 26,
   "metadata": {
    "nbgrader": {
     "grade": false,
     "grade_id": "cell-95d81e10c8c11ecb",
     "locked": false,
     "schema_version": 2,
     "solution": true
    }
   },
   "outputs": [],
   "source": [
    "def bootstrap_longest_run(game, num_iter=1):\n",
    "    \"\"\"\n",
    "    game: string, shot sequence data for a single game\n",
    "    num_iter: number of statistics to generate\n",
    "    \n",
    "    returns: num_iter statistics drawn from the bootstrapped sampling distribution\n",
    "    \"\"\"\n",
    "    \n",
    "    ### BEGIN SOLUTION\n",
    "    sims = np.random.choice(list(game), size=(num_iter, len(game)))    \n",
    "    return pd.DataFrame(sims).apply(lambda x: ''.join(x), 1).pipe(find_longest_run)\n",
    "    ### END SOLUTION"
   ]
  },
  {
   "cell_type": "code",
   "execution_count": 27,
   "metadata": {
    "nbgrader": {
     "grade": true,
     "grade_id": "cell-fe7211e06056d21a",
     "locked": true,
     "points": 10,
     "schema_version": 2,
     "solution": false
    }
   },
   "outputs": [],
   "source": [
    "longest_run_simulations = bootstrap_longest_run(klay_example, 100)\n",
    "assert isinstance(longest_run_simulations, pd.Series)\n",
    "assert len(longest_run_simulations) == 100\n",
    "assert longest_run_simulations.max() < 30\n",
    "assert longest_run_simulations.max() >= 0"
   ]
  },
  {
   "cell_type": "markdown",
   "metadata": {
    "nbgrader": {
     "grade": false,
     "grade_id": "cell-45ac1cd64d28ef9c",
     "locked": true,
     "schema_version": 2,
     "solution": false
    }
   },
   "source": [
    "Use `bootstrap_longest_run` and the longest run statistic to answer the following question: Is Klay's performance against the Indiana Pacers indicative of hot hands?  Support your answer with:\n",
    "\n",
    "1. A plot of the observed statistic against its (bootstrapped) sampling distribution.  In this plot, each possible value of longest streak length should get its own bin, centered at its value.  Restrict the x-axis to the interval \\[0, 20\\].\n",
    "1. A p-value compared to significance level 0.05\n",
    "1. A sentence describing how the p-value should be interpreted."
   ]
  },
  {
   "cell_type": "code",
   "execution_count": 28,
   "metadata": {
    "nbgrader": {
     "grade": true,
     "grade_id": "cell-1fd2e3f1c912cf39",
     "locked": false,
     "points": 0,
     "schema_version": 2,
     "solution": true
    },
    "scrolled": true
   },
   "outputs": [
    {
     "data": {
      "image/png": "[encoded data removed]",
      "text/plain": [
       "<matplotlib.figure.Figure at 0x7f39afc9d908>"
      ]
     },
     "metadata": {},
     "output_type": "display_data"
    }
   ],
   "source": [
    "### BEGIN SOLUTION\n",
    "boot_runs = bootstrap_longest_run(klay_example, 10000)\n",
    "observed_longest_run = find_longest_run(klay_example)\n",
    "p_value = np.mean(boot_runs >= observed_longest_run[0])\n",
    "plt.hist(boot_runs, \n",
    "         density=True, \n",
    "         bins=np.arange(-0.5, 21.5, 1),\n",
    "         edgecolor='black',\n",
    "         facecolor='0.8')\n",
    "plt.xticks(range(21))\n",
    "plt.xlabel('Longest Run')\n",
    "plt.ylabel('Probability')\n",
    "plt.title(f'Bootstrapped Sampling Distribution\\np={p_value}')\n",
    "plt.axvline(x=observed_longest_run[0], ls='--', color='red');\n",
    "### END SOLUTION"
   ]
  },
  {
   "cell_type": "markdown",
   "metadata": {
    "nbgrader": {
     "grade": true,
     "grade_id": "cell-21b49c602992d416",
     "locked": false,
     "points": 10,
     "schema_version": 2,
     "solution": true
    }
   },
   "source": [
    "Under the null model that Thompson does not have hot hands, we see that his observed longest run length of 6 is beaten roughly $\\approx 87\\%$ of the time.  We cannot reject the null hypothesis of no hot hands since $p > 0.05$.\n",
    "\n",
    "Points | Description\n",
    "--- | ---\n",
    "1 | Plot has correctly labelled axes\n",
    "1 | Plot shows observed statistic of 6\n",
    "1 | Plot is restricted to values in $\\lbrack 0,20 \\rbrack$\n",
    "1 | Bins are centered at every integer 0, ..., 20\n",
    "2 | Plot has roughly the right shape (right-skew)\n",
    "2 | Reported p value is $0.87\\pm0.05$\n",
    "2 | Does not reject the null"
   ]
  },
  {
   "cell_type": "markdown",
   "metadata": {
    "nbgrader": {
     "grade": false,
     "grade_id": "cell-61975352676b2cf5",
     "locked": true,
     "schema_version": 2,
     "solution": false
    }
   },
   "source": [
    "## A Different Statistic\n",
    "\n",
    "Arguably, the longest run isn't a particularly good test-statistic for capturing what people mean when they say \"hot hands\". \n",
    "\n",
    "Let's try a test-statistics that captures the essence of \"hot-hands\" a bit more.  We're now going to explore a well-known approach proposed by [Amos Tversky](https://en.wikipedia.org/wiki/Amos_Tversky) and his collaborators.  The hot hand of Tversky is similar to the notion of being \"on fire\" in the old arcade game [NBA Jam](https://www.youtube.com/watch?v=ipzstdPtxNw).  In that game, if you make 3 shots in a row with a player, your player would be on fire (with flame sprites!).  While on fire (until a miss), the player has an inflated probability of making shots.\n",
    "\n",
    "The statistic to capture this affect, called $T_{k, make}$, is easy to compute:\n",
    "\\begin{align*}\n",
    "  T_{k, make}\n",
    "  & = \\hat{\\mathbb{P}}(\\text{Make next shot}\\ \\vert\\ \\text{Made last $k$ shots})\\\\\n",
    "  & = \\frac{\\#\\{\\text{Streaks of $k+1$ makes in a row}\\}}{\\#\\{\\text{Streaks of $k$ makes in a row preceeding an attempt}\\}}\n",
    "\\end{align*}\n",
    "If $T_{k, make}$ is especially high, then we might say that our player is experiencing a hot hand.\n",
    "\n",
    "A similar statistic can try to capture a cold hand reversal:\n",
    "\\begin{align*}\n",
    "  T_{k, miss}\n",
    "  & = \\hat{\\mathbb{P}}(\\text{Make next shot}\\ \\vert\\ \\text{Missed last $k$ shots})\\\\\n",
    "  & = \\frac{\\#\\{\\text{Streaks of $k$ misses followed by make}\\}}{\\#\\{\\text{Streaks of $k$ misses in a row preceeding an attempt}\\}}\n",
    "\\end{align*}\n",
    "Note: If the value of $T_{k, miss}$ is especially high, this doesn't mean the player is expected to miss a bunch of shots in a  row, instead we'd say that they tend to see reversals in their streaks.\n",
    "\n",
    "#### Problem 10 \\[10pts\\]\n",
    "\n",
    "Start by writing a utility function `count_conditionally`, which takes a `pd.Series` of shot sequence strings, a **conditioning set**, and an **event**, and returns a series of the count of the the number of times that the event follows the conditioning set in each shot sequence string.\n",
    "\n",
    "**Example Behavior 1:** \n",
    "\n",
    "If we call `count_conditionally(['111111', '01111100111'], '111', '0')`, we are counting the number of times that the event `0` follows `111` in each string. In this case, the function would return `pd.Series([0, 1])`.\n",
    "\n",
    "**Example Behavior 2:** \n",
    "\n",
    "If we call  `count_conditionally(['111111', '01111100111'], '111', '1')`, we are counting the number of times that the event `1` follows `111` in each string. In this case, the function would return `pd.Series([3, 2])`. Note that events can overlap, e.g. `111111` has 3 occurrences of the event `1` that follow the condition `111`: <span style=\"background-color:yellow\"><b>111</b></span><span style=\"background-color:#32CD32\"><b>1</b></span>11, 1<span style=\"background-color:yellow\"><b>111</b></span><span style=\"background-color:#32CD32\"><b>1</b></span>1, 11<span style=\"background-color:yellow\"><b>111</b></span><span style=\"background-color:#32CD32\"><b>1</b></span>.\n",
    "\n",
    "As with `count_runs` and `find_longest_run`, for convenience, your `count_conditionally` function should handle a string input corresponding to a single shot sequence as well.\n",
    "\n",
    "**Hint**: You should be able to recycle ideas from `count_runs`."
   ]
  },
  {
   "cell_type": "code",
   "execution_count": 29,
   "metadata": {
    "nbgrader": {
     "grade": false,
     "grade_id": "cell-750ae25730518016",
     "locked": false,
     "schema_version": 2,
     "solution": true
    }
   },
   "outputs": [],
   "source": [
    "def count_conditionally(shot_sequences, conditioning_set, event='1'):\n",
    "    \"\"\"\n",
    "    shot_sequences: pd.Series (string) of shot strings for a set of games or a single string\n",
    "       to be coerced into a pd.Series\n",
    "    conditioning_set: string or regex pattern representing the conditioning set\n",
    "    event: string or regex pattern representing the event of interest\n",
    "    \n",
    "    return: pd.Series of the number of times event occured after the\n",
    "       conditioning set in each game\n",
    "    \"\"\"\n",
    "    \n",
    "    ### BEGIN SOLUTION\n",
    "    if isinstance(shot_sequences, str):\n",
    "        shot_sequences = pd.Series(shot_sequences)\n",
    "\n",
    "    return shot_sequences.str.count(f'(?<={conditioning_set}){event}')\n",
    "    ### END SOLUTION"
   ]
  },
  {
   "cell_type": "code",
   "execution_count": 30,
   "metadata": {
    "nbgrader": {
     "grade": true,
     "grade_id": "cell-92073dda98dd97e1",
     "locked": true,
     "points": 1,
     "schema_version": 2,
     "solution": false
    }
   },
   "outputs": [],
   "source": [
    "assert isinstance(count_conditionally(pd.Series(klay_example), '11'), pd.Series), \\\n",
    "'count_conditionally should return a pd.Series'"
   ]
  },
  {
   "cell_type": "code",
   "execution_count": 31,
   "metadata": {
    "nbgrader": {
     "grade": true,
     "grade_id": "cell-39c251b4cf88cda2",
     "locked": true,
     "points": 3,
     "schema_version": 2,
     "solution": false
    }
   },
   "outputs": [],
   "source": [
    "# Bah, test it yourself\n",
    "### BEGIN HIDDEN TESTS\n",
    "test_series = pd.Series(['111111', '01111100111'])\n",
    "assert count_conditionally(test_series, '111').equals(pd.Series([3, 2])), \\\n",
    "'There are 3 runs of length 4 in test_series[0] and 2 in test_series[1].  Runs may overlap.'\n",
    "assert count_conditionally(test_series, '111', '0').equals(pd.Series([0, 1])), \\\n",
    "'There are 0 misses following runs of of length 3 in test_series[0] and 1 miss following runs of length 3 in test_series[1].'\n",
    "### END HIDDEN TESTS"
   ]
  },
  {
   "cell_type": "code",
   "execution_count": 32,
   "metadata": {
    "nbgrader": {
     "grade": true,
     "grade_id": "cell-7aab1c1204862938",
     "locked": true,
     "points": 6,
     "schema_version": 2,
     "solution": false
    }
   },
   "outputs": [],
   "source": [
    "# Nobody's home\n",
    "### BEGIN HIDDEN TESTS\n",
    "assert count_conditionally(pd.Series(klay_example), '11').equals(pd.Series(12)), \\\n",
    "'Klay Thompson had 12 runs of length 3 in the example.'\n",
    "assert count_conditionally(klay_example, '11').equals(pd.Series(12)), \\\n",
    "'Klay Thompson had 12 runs of length 3 in the example, your code should be able to handle a string input.'                    \n",
    "assert count_conditionally('00110010101', '001').equals(pd.Series(1)), \\\n",
    "'There is one instance of a \"1\" following \"001\"'\n",
    "### END HIDDEN TESTS"
   ]
  },
  {
   "cell_type": "markdown",
   "metadata": {
    "nbgrader": {
     "grade": false,
     "grade_id": "cell-95f6de65af5454f5",
     "locked": true,
     "schema_version": 2,
     "solution": false
    }
   },
   "source": [
    "### Worked examples\n",
    "\n",
    "Read this section carefully. It will probably take some time to digest, but it's a very valuable lesson in statistics that we'd like you to absorb.\n",
    "\n",
    "We'll look at the $T_{k, make}$ statistic to make sure we understand what it is, as well as what we might expect under the null vs. hot hands hypothesis.\n",
    "\n",
    "#### Example 1 \n",
    "\n",
    "Let's first consider a worked out example of computing $T_{3, make}$, the observed rate of success following a streak of 3 makes. \n",
    "We'll use `111110001110` in our example. \n",
    "Looking at the string carefully, we see that the condition `111` occurs 4 times. Of the 4 occurrences, 2 are followed by a make, and 2 are followed by a miss. Thus $T_{3, make}$ for `111110001110` is 0.5.\n",
    "Another way of putting this is that  `count_conditionally('111110001110', '111', '1')` returns the value 2 out of a possible maximum value of 4, and thus $T_{3, make}$ is 0.5.\n",
    "\n",
    "#### Example 2\n",
    "\n",
    "As another example, let's consider  $T_{3, make}$ for `111110001110111`. In this case, the condition `111` occurs 5 times.  However, we will not count the last `111` as a condition set, because there is no opportunity to flip again. We call this last occurrence of `111` an **unrealized conditioning set**. Of the remaining 4 occurrences, 2 are followed by a make, and 2 are followed by a miss. Thus $T_{3, make}$ for `111110001110111` is also 0.5.\n",
    "Another way of putting this is that  `count_conditionally('111110001110111', '111', '1')` returns the value 2 out of a possible maximum value of 4, and thus $T_{3, make}$ is 0.5.\n",
    "\n",
    "#### Check your understanding\n",
    "\n",
    "Compute $T_{4, make}$ for `00000111100001111111000111` assuming the probability the player makes a shot is 75%.\n",
    "<details>\n",
    "    <summary><font color=\"#0000FF\">Click here to show the answer</font></summary>\n",
    "Note that in `00000111100001111111000111`, there are 5 occurrences of `1111`, and the last one is not at the end, so is not an unrealized conditioning set and thus all 5 conditioning sets are under consideration. Of those 5 occurrences, the first is followed by a miss, the second by a make, the third by a make, the fourth is followed by a make, and the fifth is followed by a miss. Thus for this sequence, $T_{4, make}$ is 3/5 = 0.6.\n",
    "</details>\n",
    "\n",
    "Now that you know how to compute $T_{k, make}$, let's reiterate that it tells us the observed probability that we will make the next shot, given that we have made the previous k shots. That is for the sequence `00000111100001111111000111`,  the fact that $T_{4, make}$ is equal to 0.6 means that the **observed probability** of making a shot after 4 shots in a row is 60%.\n",
    "\n",
    "### Computing the Expectated Value of $T_{1, make}$ \n",
    "\n",
    "Consider $T_{1, make}$, i.e. the observed probability that you make a shot, given that your last shot was also a make. Before continuing, make sure you can compute that $T_{1, make}$ of `1110` is $\\frac{2}{3}$.\n",
    "\n",
    "We ultimately want to take player shot sequences and compute $T_{k, make}$, so it'd be a good idea if we know what to expect under the null hypothesis.\n",
    "\n",
    "#### Thought Exercise\n",
    "\n",
    "Suppose that a given player's probability of making a shot is 50%, and that they make exactly 4 shots. Under the null hypothesis (hot hands does not exist), give your guess for the expected value of $T_{1, make}$. Supply your answer by setting the variable `ev_tk1_make`.\n",
    "\n",
    "In other words, if you pick `ev_tk1_make = 0.8`, you're saying that for a shot sequence of four shots for a player with 50% accuracy, under the null hypothesis (hot hands doesn't exist) you expect that you will observe the player making 80% of their shots that follow a make."
   ]
  },
  {
   "cell_type": "code",
   "execution_count": 33,
   "metadata": {
    "nbgrader": {
     "grade": true,
     "grade_id": "cell-233d0a9c84597802",
     "locked": false,
     "points": 0,
     "schema_version": 2,
     "solution": true
    }
   },
   "outputs": [],
   "source": [
    "# Doesn't matter what you write.  This is just to keep you honest about\n",
    "# your intuition\n",
    "ev_tk1_make = ...\n",
    "\n",
    "### BEGIN SOLUTION\n",
    "ev_tk1_make = 0.5\n",
    "### END SOLUTION"
   ]
  },
  {
   "cell_type": "code",
   "execution_count": 34,
   "metadata": {
    "nbgrader": {
     "grade": false,
     "grade_id": "cell-4471ff8bcac616ec",
     "locked": true,
     "schema_version": 2,
     "solution": false
    }
   },
   "outputs": [],
   "source": [
    "assert 0 <= ev_tk1_make <= 1"
   ]
  },
  {
   "cell_type": "markdown",
   "metadata": {
    "nbgrader": {
     "grade": false,
     "grade_id": "cell-28f9536694432174",
     "locked": true,
     "schema_version": 2,
     "solution": false
    }
   },
   "source": [
    "We're guessing that you picked `ev_tk1_make = 0.5`, which is a great guess! It seems clear that if shots are made independently, the chance of making a basket is 50%. While the OVERALL probability is 50%, the CONDITIONAL probability will not be 50%. In other words the expected value of $T_{1, make}$ will not be 0.5 under the null hypothesis if we're considering a shot sequence of 4 shots with 50% probability.\n",
    "\n",
    "How can this be? We will show it to be true by enumerating all the possibilities. Run the cell below to list the four different possibilities for our shot sequences, with the value of $T_{1, make}$ for each sequence in the rightmost column. `n11` is how many times our conditioning set is realized and followed by a 1, and `n10` is how many times our conditioning set is realized and followed by a 0."
   ]
  },
  {
   "cell_type": "code",
   "execution_count": 35,
   "metadata": {
    "nbgrader": {
     "grade": false,
     "grade_id": "cell-704647c53463971c",
     "locked": true,
     "schema_version": 2,
     "solution": false
    }
   },
   "outputs": [
    {
     "data": {
      "text/html": [
       "<div>\n",
       "<style scoped>\n",
       "    .dataframe tbody tr th:only-of-type {\n",
       "        vertical-align: middle;\n",
       "    }\n",
       "\n",
       "    .dataframe tbody tr th {\n",
       "        vertical-align: top;\n",
       "    }\n",
       "\n",
       "    .dataframe thead th {\n",
       "        text-align: right;\n",
       "    }\n",
       "</style>\n",
       "<table border=\"1\" class=\"dataframe\">\n",
       "  <thead>\n",
       "    <tr style=\"text-align: right;\">\n",
       "      <th></th>\n",
       "      <th>sequence</th>\n",
       "      <th>n11</th>\n",
       "      <th>n10</th>\n",
       "      <th>tk1</th>\n",
       "    </tr>\n",
       "  </thead>\n",
       "  <tbody>\n",
       "    <tr>\n",
       "      <th>0</th>\n",
       "      <td>1111</td>\n",
       "      <td>3</td>\n",
       "      <td>0</td>\n",
       "      <td>1.00</td>\n",
       "    </tr>\n",
       "    <tr>\n",
       "      <th>1</th>\n",
       "      <td>1110</td>\n",
       "      <td>2</td>\n",
       "      <td>1</td>\n",
       "      <td>0.67</td>\n",
       "    </tr>\n",
       "    <tr>\n",
       "      <th>2</th>\n",
       "      <td>1101</td>\n",
       "      <td>1</td>\n",
       "      <td>1</td>\n",
       "      <td>0.50</td>\n",
       "    </tr>\n",
       "    <tr>\n",
       "      <th>3</th>\n",
       "      <td>1100</td>\n",
       "      <td>1</td>\n",
       "      <td>1</td>\n",
       "      <td>0.50</td>\n",
       "    </tr>\n",
       "    <tr>\n",
       "      <th>4</th>\n",
       "      <td>1011</td>\n",
       "      <td>1</td>\n",
       "      <td>1</td>\n",
       "      <td>0.50</td>\n",
       "    </tr>\n",
       "    <tr>\n",
       "      <th>5</th>\n",
       "      <td>1010</td>\n",
       "      <td>0</td>\n",
       "      <td>2</td>\n",
       "      <td>0.00</td>\n",
       "    </tr>\n",
       "    <tr>\n",
       "      <th>6</th>\n",
       "      <td>1001</td>\n",
       "      <td>0</td>\n",
       "      <td>1</td>\n",
       "      <td>0.00</td>\n",
       "    </tr>\n",
       "    <tr>\n",
       "      <th>7</th>\n",
       "      <td>1000</td>\n",
       "      <td>0</td>\n",
       "      <td>1</td>\n",
       "      <td>0.00</td>\n",
       "    </tr>\n",
       "    <tr>\n",
       "      <th>8</th>\n",
       "      <td>0111</td>\n",
       "      <td>2</td>\n",
       "      <td>0</td>\n",
       "      <td>1.00</td>\n",
       "    </tr>\n",
       "    <tr>\n",
       "      <th>9</th>\n",
       "      <td>0110</td>\n",
       "      <td>1</td>\n",
       "      <td>1</td>\n",
       "      <td>0.50</td>\n",
       "    </tr>\n",
       "    <tr>\n",
       "      <th>10</th>\n",
       "      <td>0101</td>\n",
       "      <td>0</td>\n",
       "      <td>1</td>\n",
       "      <td>0.00</td>\n",
       "    </tr>\n",
       "    <tr>\n",
       "      <th>11</th>\n",
       "      <td>0100</td>\n",
       "      <td>0</td>\n",
       "      <td>1</td>\n",
       "      <td>0.00</td>\n",
       "    </tr>\n",
       "    <tr>\n",
       "      <th>12</th>\n",
       "      <td>0011</td>\n",
       "      <td>1</td>\n",
       "      <td>0</td>\n",
       "      <td>1.00</td>\n",
       "    </tr>\n",
       "    <tr>\n",
       "      <th>13</th>\n",
       "      <td>0010</td>\n",
       "      <td>0</td>\n",
       "      <td>1</td>\n",
       "      <td>0.00</td>\n",
       "    </tr>\n",
       "    <tr>\n",
       "      <th>14</th>\n",
       "      <td>0001</td>\n",
       "      <td>0</td>\n",
       "      <td>0</td>\n",
       "      <td>NaN</td>\n",
       "    </tr>\n",
       "    <tr>\n",
       "      <th>15</th>\n",
       "      <td>0000</td>\n",
       "      <td>0</td>\n",
       "      <td>0</td>\n",
       "      <td>NaN</td>\n",
       "    </tr>\n",
       "  </tbody>\n",
       "</table>\n",
       "</div>"
      ],
      "text/plain": [
       "   sequence  n11  n10   tk1\n",
       "0      1111    3    0  1.00\n",
       "1      1110    2    1  0.67\n",
       "2      1101    1    1  0.50\n",
       "3      1100    1    1  0.50\n",
       "4      1011    1    1  0.50\n",
       "5      1010    0    2  0.00\n",
       "6      1001    0    1  0.00\n",
       "7      1000    0    1  0.00\n",
       "8      0111    2    0  1.00\n",
       "9      0110    1    1  0.50\n",
       "10     0101    0    1  0.00\n",
       "11     0100    0    1  0.00\n",
       "12     0011    1    0  1.00\n",
       "13     0010    0    1  0.00\n",
       "14     0001    0    0   NaN\n",
       "15     0000    0    0   NaN"
      ]
     },
     "execution_count": 35,
     "metadata": {},
     "output_type": "execute_result"
    }
   ],
   "source": [
    "def iterable_to_string(iterable):\n",
    "    return ''.join(map(str, iterable))\n",
    "\n",
    "example = pd.DataFrame({\n",
    " 'sequence': [iterable_to_string(s) for s in itertools.product('10', repeat=4)]   \n",
    "})\n",
    "example['n11'] = count_conditionally(example['sequence'], '1', '1')\n",
    "example['n10'] = count_conditionally(example['sequence'], '1', '0')\n",
    "example['tk1'] = (example['n11'] / (example['n11'] + example['n10'])).round(2)\n",
    "\n",
    "example"
   ]
  },
  {
   "cell_type": "markdown",
   "metadata": {
    "nbgrader": {
     "grade": false,
     "grade_id": "cell-b0504e85e135f629",
     "locked": true,
     "schema_version": 2,
     "solution": false
    }
   },
   "source": [
    "Since each sequence is equally likely (you should prove this to yourself!), each of the possible observations for $T_{1, make}$ have the same probability, and we can just take the arithmetic average of `tk1`, dropping any undefined proportions, to get the expected value."
   ]
  },
  {
   "cell_type": "code",
   "execution_count": 36,
   "metadata": {
    "nbgrader": {
     "grade": false,
     "grade_id": "cell-5c57d47c92070e84",
     "locked": true,
     "schema_version": 2,
     "solution": false
    }
   },
   "outputs": [
    {
     "name": "stdout",
     "output_type": "stream",
     "text": [
      "The expected value of the conditional proportion is 0.4\n"
     ]
    }
   ],
   "source": [
    "ev_tk1_actual = example['tk1'].dropna().mean().round(2)\n",
    "print(f'The expected value of the conditional proportion is {ev_tk1_actual}')"
   ]
  },
  {
   "cell_type": "markdown",
   "metadata": {
    "nbgrader": {
     "grade": false,
     "grade_id": "cell-9968c17294b3980f",
     "locked": true,
     "schema_version": 2,
     "solution": false
    }
   },
   "source": [
    "Surprised?  We certainly were!  You can do a similar analysis of $T_{k, miss}$ to find that it is greater than 0.5, meaning the expected proportion of streak reversals (a 1 after a sequence of consecutive 0s) is higher than 0.5, the overall probability of getting a 1!\n",
    "\n",
    "Differently put, if we label the sequence as $s_1, s_2, s_3, s_4$, we can write the proportion as:\n",
    "\n",
    "$$\\begin{align}\n",
    "T_{1, make}\n",
    "&= \\hat{\\mathbb{P}} (\\text{Get a 1 given that previous result was 1}) \\\\\n",
    "&= \\hat{\\mathbb{P}}(s_i = 1\\ \\vert\\ s_{i-1}=1) \\\\\n",
    "&= \\dfrac{n_{11}}{n_{10}+n_{11}}\n",
    "\\end{align}$$\n",
    "\n",
    "It may seem like $\\mathbb{E}\\left\\lbrack T_{1, make} \\right\\rbrack$ should really be 0.5 if the chance of making a shot is 50%, but the table above shows that this is NOT the case. The observed chance of getting a make given that you just got a make is actually 40% when you have a sequence of 4 shots.\n",
    "\n",
    "Notice that the table above is also enough to fully describe the sampling distribution of $T_{1, make}$ for a player with an accuracy of 50%.  Below is a plot of the probability distribution.  There are only 4 possible values for $T_{1, make}$: $0, \\frac{1}{2}, \\frac{2}{3}, \\text{and } 1$."
   ]
  },
  {
   "cell_type": "code",
   "execution_count": 37,
   "metadata": {
    "nbgrader": {
     "grade": false,
     "grade_id": "cell-01f29cc649ccbf04",
     "locked": true,
     "schema_version": 2,
     "solution": false
    }
   },
   "outputs": [
    {
     "data": {
      "image/png": "[encoded data removed]",
      "text/plain": [
       "<matplotlib.figure.Figure at 0x7f39afc9d160>"
      ]
     },
     "metadata": {},
     "output_type": "display_data"
    }
   ],
   "source": [
    "sns.distplot(example['tk1'].dropna(),\n",
    "             kde=False, bins=np.arange(-0.005, 1.015, .01), norm_hist=True)\n",
    "plt.xticks(np.arange(0, 1.1, 0.1))\n",
    "plt.title('Sampling Distribution of $T_{1, make}$\\n k=1, 4 shots, 50% Accuracy')\n",
    "plt.xlabel('$T_{1,make}$')\n",
    "plt.ylabel('Probability (Approx %)');"
   ]
  },
  {
   "cell_type": "markdown",
   "metadata": {
    "nbgrader": {
     "grade": false,
     "grade_id": "cell-6420c7d13d7c4d4d",
     "locked": true,
     "schema_version": 2,
     "solution": false
    }
   },
   "source": [
    "#### Problem 11 \\[5pts\\]\n",
    "Recall that in the example above, we were conditioning on runs of length 1 and a player that shoots 4 times with an accuracy of 50%.  Calculate the expected proportion of makes conditioned on runs of length 2 (i.e.  $T_{2, make}$) when the player shoots 16 times with an accuracy of 50%."
   ]
  },
  {
   "cell_type": "code",
   "execution_count": 38,
   "metadata": {
    "nbgrader": {
     "grade": false,
     "grade_id": "cell-9e4fa2044fecb32f",
     "locked": false,
     "schema_version": 2,
     "solution": true
    }
   },
   "outputs": [],
   "source": [
    "expected_proportion = ...\n",
    "\n",
    "### BEGIN SOLUTION\n",
    "sequences = [iterable_to_string(s) for s in itertools.product('10', repeat=16)]\n",
    "n111 = count_conditionally(pd.Series(sequences), '11', '1')\n",
    "n110 = count_conditionally(pd.Series(sequences), '11', '0')\n",
    "proportions = n111 / (n111 + n110)\n",
    "expected_proportion = proportions.dropna().mean()\n",
    "### END SOLUTION"
   ]
  },
  {
   "cell_type": "code",
   "execution_count": 39,
   "metadata": {
    "nbgrader": {
     "grade": true,
     "grade_id": "cell-eafd8c2b440e2da0",
     "locked": true,
     "points": 5,
     "schema_version": 2,
     "solution": false
    }
   },
   "outputs": [],
   "source": [
    "assert 0 <= expected_proportion <= 1, \\\n",
    "'The expected proportion should be between 0 and 1.'\n",
    "### BEGIN HIDDEN TESTS\n",
    "assert np.isclose(np.round(expected_proportion, 2), 0.4)\n",
    "### END HIDDEN TESTS"
   ]
  },
  {
   "cell_type": "markdown",
   "metadata": {
    "nbgrader": {
     "grade": false,
     "grade_id": "cell-0e2a111587214153",
     "locked": true,
     "schema_version": 2,
     "solution": false
    }
   },
   "source": [
    "#### Problem 12 \\[5pts\\]\n",
    "Plot the sampling distribution of $T_{2, make}$ of a player who shoots 16 times with an accuracy of 50%.  You should be able to reuse your work from the last problem."
   ]
  },
  {
   "cell_type": "code",
   "execution_count": 40,
   "metadata": {
    "nbgrader": {
     "grade": true,
     "grade_id": "cell-80d716e9c7c244b4",
     "locked": false,
     "points": 5,
     "schema_version": 2,
     "solution": true
    },
    "scrolled": true
   },
   "outputs": [
    {
     "data": {
      "image/png": "[encoded data removed]",
      "text/plain": [
       "<matplotlib.figure.Figure at 0x7f39a4a734a8>"
      ]
     },
     "metadata": {},
     "output_type": "display_data"
    }
   ],
   "source": [
    "### BEGIN SOLUTION\n",
    "# Points | Description\n",
    "# ---    | ---\n",
    "# 2      | Correct axis labels.  If binwidths are 0.01, then \n",
    "#        | \"probability\" is ok for the y axis.  \n",
    "#        | If they plot vlines, then probability is also ok.\n",
    "#        | If they say counts/density, then 1 point.  Tk\n",
    "#        | takes on discrete values.\n",
    "# 3      | Shape approximately matches the one shown below.  Otherwise\n",
    "#        | they did not choose bin widths that reflect the distribution.\n",
    "#        | The bins need not be as narrow.\n",
    "\n",
    "# Note to course staff: GCD is 360360\n",
    "t2m = proportions.dropna().value_counts(normalize=True)\n",
    "plt.vlines(t2m.index, 0, t2m, lw=3)\n",
    "plt.xticks(np.arange(0, 1.1, 0.1))\n",
    "plt.ylim(0, 0.27)\n",
    "plt.title('Sampling Distribution of $T_{2, make}$\\n k=2, 16 shots, 50% Accuracy')\n",
    "plt.xlabel('$T_{2,make}$')\n",
    "plt.ylabel('Probability');\n",
    "### END SOLUTION"
   ]
  },
  {
   "cell_type": "markdown",
   "metadata": {
    "nbgrader": {
     "grade": false,
     "grade_id": "cell-e2430999c78984f6",
     "locked": true,
     "schema_version": 2,
     "solution": false
    }
   },
   "source": [
    "It turns out that the logic for calculating the exact sampling distribution for $T_{k, make}$ when a player has an accuracy other than 50% is a little more complicated than we're immediately equipped to deal with in this class.  This might seem like our analysis is going to be doomed. If we can't compute $T_{k, make}$ to expect under the null hypothesis for a given player, how will be able to recognize a $T_{k, make}$ value that indicates that the hot hands hypothesis is true?\n",
    "\n",
    "Luckily, we don't have to, because we have a tool that will allow us to approximate the sampling distribution under the null hypothesis: the bootstrap.  The key observation is that the bootstrap procedure naturally preserves the player's overall shot accuracy in a given game. We'll use the bootstrap in a little while at the very end of this homework.\n",
    "\n",
    "In short, all that hard work we just did to compute the exact sampling distribution of $T_{k, make}$ isn't going to play a role in our analysis. Nonetheless, we felt it was important to really dig in and gain intuition on this test statistic.\n",
    "\n",
    "## The \"Tversky Statistic\" for Hot Hand Detection\n",
    "\n",
    "It turns out that simply measuring $T_k = T_{k, make}$ isn't as useful as the \"Tversky statistic\" for hot-hand detection, defined as \n",
    "\n",
    "$$T_k = T_{k, make} - T_{k, miss}$$\n",
    "\n",
    "The original inspiration for this statistic was to measure hot-handedness by comparing the proportion of times a player continued a success streak against their propensity to reverse a string of misses. As we saw above, computing the expected value of $T_{k, make}$ is hard and the results are counterintuitive. We're not going to formally explore the expected value of $T_k$, but you are free and encouraged to do so.\n",
    "\n",
    "We will, however, mention that for reasons similar to our analysis in the previous sections, despite most people's initial intuition that the expected value of $T_k$ should be zero, this statistic has its sampling distribution centered around a value less than 0.\n",
    "\n",
    "#### Problem 13 \\[5pts\\]\n",
    "\n",
    "The Tversky statistic is sometimes undefined (has no valid value).  In our analysis, we will be discarding sequences where $T_k$ is undefined.  The reason is that it doesn't make sense to count cases where the conditioning set isn't present.  Specifically describe the two cases where $T_k$ is undefined."
   ]
  },
  {
   "cell_type": "markdown",
   "metadata": {
    "nbgrader": {
     "grade": true,
     "grade_id": "cell-d677cb0773ce50e6",
     "locked": false,
     "points": 5,
     "schema_version": 2,
     "solution": true
    }
   },
   "source": [
    "When either no runs of length $k$ occur in a game or no miss streaks of length $k$ occur in a game.\n",
    "\n",
    "Points | Description\n",
    "---    | ---\n",
    "2.5    | Games with no miss streaks of length $k$\n",
    "2.5    | Games with no make runs of length $k$"
   ]
  },
  {
   "cell_type": "markdown",
   "metadata": {
    "nbgrader": {
     "grade": false,
     "grade_id": "cell-54e125090356f3e9",
     "locked": true,
     "schema_version": 2,
     "solution": false
    }
   },
   "source": [
    "#### Problem  14 \\[5pts\\]\n",
    "Write a function `calc_tk_stat` that can take a `pd.Series` of shot strings and return their Tversky statistics.  If the statistic is undefined, return `NaN`."
   ]
  },
  {
   "cell_type": "code",
   "execution_count": 41,
   "metadata": {
    "nbgrader": {
     "grade": false,
     "grade_id": "cell-4dfbe30c183deae0",
     "locked": false,
     "schema_version": 2,
     "solution": true
    }
   },
   "outputs": [],
   "source": [
    "def calc_tk_stat(games, k):\n",
    "    \"\"\"\n",
    "    Computes the tversky statistic for hot hands\n",
    "        \n",
    "    games: pd.Series (string) shot data for a set of games\n",
    "    k: int, conditioning set length; number of misses/hits to condition on\n",
    "    \"\"\"\n",
    "\n",
    "### BEGIN SOLUTION\n",
    "def calc_tk_make(games, k):\n",
    "    \"\"\"\n",
    "    Computes make proportion following k makes (\"hot hands\")\n",
    "    \"\"\"\n",
    "    makes = count_conditionally(games, conditioning_set = '1'*k, event = '1')\n",
    "    attempts = count_conditionally(games, conditioning_set = '1'*k, event = '[10]')\n",
    "    \n",
    "    return makes / attempts\n",
    "\n",
    "def calc_tk_miss(games, k):\n",
    "    \"\"\"\n",
    "    Computes make proportion following k misses (\"cold streak reversal\")\n",
    "    \"\"\"\n",
    "    makes = count_conditionally(games, conditioning_set = '0'*k, event = '1')\n",
    "    attempts = count_conditionally(games, conditioning_set = '0'*k, event = '[10]')\n",
    "    \n",
    "    return makes / attempts\n",
    "\n",
    "def calc_tk_stat(games, k):\n",
    "    \"\"\"\n",
    "    Computes the tversky statistic for hot hands\n",
    "        \n",
    "    games: pd.Series (string) shot data for a set of games\n",
    "    k: int, conditioning set length; number of misses/hits to condition on\n",
    "    \n",
    "    return: pd.Series (float) T_k for each game, NaN indicates that the \n",
    "    statistic is undefined for that game\n",
    "    \"\"\"\n",
    "    tk_make = calc_tk_make(games, k)\n",
    "    tk_miss = calc_tk_miss(games, k)\n",
    "    \n",
    "    return tk_make - tk_miss\n",
    "### END SOLUTION"
   ]
  },
  {
   "cell_type": "code",
   "execution_count": 42,
   "metadata": {
    "nbgrader": {
     "grade": true,
     "grade_id": "cell-ac00a6cd32948664",
     "locked": true,
     "points": 5,
     "schema_version": 2,
     "solution": false
    }
   },
   "outputs": [],
   "source": [
    "assert np.isclose(calc_tk_stat(pd.Series(['1110100110000011']), 2), pd.Series([-1/15])), \\\n",
    "'T_2 for 1110100110000011 is -1/15'\n",
    "### BEGIN HIDDEN TESTS\n",
    "assert np.isclose(calc_tk_stat(klay_example, 2), pd.Series(-7/19))\n",
    "### END HIDDEN TESTS"
   ]
  },
  {
   "cell_type": "markdown",
   "metadata": {
    "nbgrader": {
     "grade": false,
     "grade_id": "cell-eb25e4511233f406",
     "locked": true,
     "schema_version": 2,
     "solution": false
    }
   },
   "source": [
    "### Statistically Testing the Null Hypothesis\n",
    "\n",
    "Now we return to the question of whether or not Thompson has hot hands. Under the hypothesis that he does have hot hands, Klay Thompson has a higher chance of making shots when he has recently made shots. Under the null hypothesis, his chance of making a shot is independent of recent successes.\n",
    "\n",
    "Run the cell below, which we'll use to load all of Klay Thompson's data.\n",
    "\n",
    "Assuming you've correctly read in `shot_data`, `klay_data` is a `pd.Series` containing Klay Thompson's shot records for the 2016-2017 season for all games (not just the game where he got 60 points)."
   ]
  },
  {
   "cell_type": "code",
   "execution_count": 43,
   "metadata": {
    "nbgrader": {
     "grade": false,
     "grade_id": "cell-2a5a099038fd607f",
     "locked": true,
     "schema_version": 2,
     "solution": false
    }
   },
   "outputs": [
    {
     "data": {
      "text/plain": [
       "game          player     \n",
       "201610250GSW  K. Thompson                0000010110101\n",
       "201610280NOP  K. Thompson    0101011011100010001111111\n",
       "201610300PHO  K. Thompson         00000111101001111000\n",
       "201611010POR  K. Thompson          1011011010000010010\n",
       "201611030GSW  K. Thompson              010010001100111\n",
       "Name: shots, dtype: object"
      ]
     },
     "execution_count": 43,
     "metadata": {},
     "output_type": "execute_result"
    }
   ],
   "source": [
    "klay_data = shot_data.loc[pd.IndexSlice[:, 'K. Thompson'], 'shots']\n",
    "klay_data.head(5)"
   ]
  },
  {
   "cell_type": "code",
   "execution_count": 44,
   "metadata": {
    "nbgrader": {
     "grade": false,
     "grade_id": "cell-9af7882979400467",
     "locked": true,
     "schema_version": 2,
     "solution": false
    }
   },
   "outputs": [],
   "source": [
    "assert isinstance(klay_data, pd.Series), \\\n",
    "'klay_data should be a pd.Series'\n",
    "assert klay_data.shape[0] == 95, \\\n",
    "'You have too few observations (should be 95)'\n",
    "assert '0000010110101' in klay_data.values, \\\n",
    "'000001011010 is missing from your data'\n",
    "assert klay_data.apply(lambda x: sum([int(n) for n in x])).sum() == 950, \\\n",
    "'You failed the checksum'"
   ]
  },
  {
   "cell_type": "markdown",
   "metadata": {
    "nbgrader": {
     "grade": false,
     "grade_id": "cell-ca6e7a0775b2d627",
     "locked": true,
     "schema_version": 2,
     "solution": false
    }
   },
   "source": [
    "#### Problem 15 \\[10pts\\]\n",
    "\n",
    "To help carry out the analysis at scale, write a function `calc_p_values` that can take a `pd.Series` of test statistics (one for each game) and compare it to a `pd.DataFrame` of simulated statistics.  In the `pd.DataFrame`, each row corresponds to the a game, so the shape will be (number of games, number of bootstrap replications).  You may assume `observed_statistics` does not contain any `NaNs`; however, `simulated_statistics` may have some.\n",
    "\n",
    "**Example Behavior**\n",
    "\n",
    "If our observed statistics are `pd.Series([0.5, 0.35, 0.4])` and our simulated statistics are a Dataframe with the values:\n",
    "\n",
    "```\n",
    "0.1, 0.3, 0.4, 0.6, 0.4, 0.6, 0.8, 0.9\n",
    "0.3, NaN, 0.7, 0.1, 0.3, 0.1, 0.8, 0.6\n",
    "0.3, 0.7, 0.1, 0.6, 0.7, NaN, NaN, 0.2\n",
    "```\n",
    "\n",
    "Then your function should return `pd.Series([4/8, 3/7, 3/6])`, e.g. the number of simulated statistics that matched or exceeded the observed statistic were 4 out of a possible 8."
   ]
  },
  {
   "cell_type": "code",
   "execution_count": 45,
   "metadata": {
    "nbgrader": {
     "grade": false,
     "grade_id": "cell-c8857a4680bfc540",
     "locked": false,
     "schema_version": 2,
     "solution": true
    }
   },
   "outputs": [],
   "source": [
    "def calc_p_values(observed_statistics, simulated_statistics):\n",
    "    \"\"\"\n",
    "    observed_statistics: pd.Series (float), test statistics for each game \n",
    "    simulated_statistics: pd.DataFrame, rows represent games, columns contain \n",
    "        test statistics simulated under the null hypothesis \n",
    "    \n",
    "    return: pd.Series (float), p-values for every game between 0 and 1\n",
    "    \"\"\"\n",
    "    ### BEGIN SOLUTION\n",
    "    num = simulated_statistics.ge(observed_statistics, axis=0).sum(axis=1)\n",
    "    den = simulated_statistics.notna().sum(axis=1)\n",
    "    return num / den\n",
    "    ### END SOLUTION"
   ]
  },
  {
   "cell_type": "code",
   "execution_count": 46,
   "metadata": {
    "nbgrader": {
     "grade": true,
     "grade_id": "cell-8ac113e49b1a66b5",
     "locked": true,
     "points": 2,
     "schema_version": 2,
     "solution": false
    }
   },
   "outputs": [],
   "source": [
    "pv_obstat = pd.Series([0.5, 0.35, 0.4])\n",
    "pv_simstat = pd.DataFrame(columns=list(range(100)), index=list(range(3)))\n",
    "pv_simstat.loc[0] = pd.Series([0.1, 0.3, 0.4, 0.6, 0.4, 0.6, 0.8, 0.9])\n",
    "pv_simstat.loc[1] = pd.Series([0.3, np.nan, 0.7, 0.1, 0.3, 0.1, 0.8, 0.6])\n",
    "pv_simstat.loc[2] = pd.Series([0.3, 0.7, 0.1, 0.6, 0.7, np.nan, np.nan, 0.2])\n",
    "\n",
    "assert isinstance(calc_p_values(pv_obstat, pv_simstat), pd.Series)\n",
    "assert calc_p_values(pv_obstat, pv_simstat).equals(pd.Series([4/8, 3/7, 3/6]))"
   ]
  },
  {
   "cell_type": "code",
   "execution_count": 47,
   "metadata": {
    "nbgrader": {
     "grade": true,
     "grade_id": "cell-f0a5ca78a5b8260d",
     "locked": true,
     "points": 8,
     "schema_version": 2,
     "solution": false
    }
   },
   "outputs": [],
   "source": [
    "# No admittance except on party business\n",
    "### BEGIN HIDDEN TESTS\n",
    "pv_obstat2 = pd.Series([99, 91, 80])\n",
    "pv_simstat2 = pd.DataFrame(columns=list(range(100)), index=list(range(3)))\n",
    "pv_simstat2.loc[0] = pd.Series(list(range(1, 101)))\n",
    "pv_simstat2.loc[1] = pd.Series(list(range(1, 101)))\n",
    "pv_simstat2.loc[2] = pd.Series(list(range(98))).append(pd.Series([np.nan, np.nan]), True)\n",
    "\n",
    "assert isinstance(calc_p_values(pv_obstat2, pv_simstat2), pd.Series)\n",
    "assert calc_p_values(pv_obstat2, pv_simstat2).equals(pd.Series([2/100, 10/100, 18/98]))\n",
    "### END HIDDEN TESTS"
   ]
  },
  {
   "cell_type": "markdown",
   "metadata": {
    "nbgrader": {
     "grade": false,
     "grade_id": "cell-c2b711116ffc8c5c",
     "locked": true,
     "schema_version": 2,
     "solution": false
    }
   },
   "source": [
    "#### Problem 16 \\[Graded in the Synthesis Portion\\]\n",
    "\n",
    "Carry out bootstrap hypothesis tests for all 95 records in `klay_data` for conditioning sets of length $k=1,2,3$.  Use 10000 bootstrap replicates to approximate the sampling distribution in each test.  You will report your results in the following section.  Technically, we should be worried about [multiple testing issues](https://en.wikipedia.org/wiki/Multiple_comparisons_problem), but you can ignore them in your analysis.\n",
    "\n",
    "For the cell below, there is no specific structure to the output that you must produce. However, your code should compute at least:\n",
    "* The observed Tversky statistic for each of the 95 games. For example, for $k = 1$, for game `'201610250GSW'`, the observed Tversky statistic is exactly `-0.250000`. \n",
    "* The number of observations that had to be discarded due to an undefined Tversky statistic. For example, the game `'201610250GSW'` with shot sequence `'0000010110101'` has an undefined Tversky statistic for $k = 3$.\n",
    "* The p-values for each of the 95 games. For eaxmple, for $k=1$, for game `'201610250GSW'`, the p-value should be approximately 0.75.\n",
    "* The number of games whose p-values were significant at the 5% level. For example, you might find that for $k=1$, 90 out of 95 games have a p-value of less than 0.05, which would be strong evidence of the hot hands effect.\n",
    "\n",
    "You'll compile the results of your findings in the next and final section of this homework."
   ]
  },
  {
   "cell_type": "code",
   "execution_count": 48,
   "metadata": {
    "nbgrader": {
     "grade": true,
     "grade_id": "cell-863ddd45a33699c2",
     "locked": false,
     "points": 0,
     "schema_version": 2,
     "solution": true
    }
   },
   "outputs": [],
   "source": [
    "### BEGIN SOLUTION\n",
    "\n",
    "def bootstrap_tk_stat(game, k, num_iter=1):\n",
    "    \"\"\"\n",
    "    game: string, shot sequence data for a single game\n",
    "    num_iter: number of statistics to generate\n",
    "    \n",
    "    returns: num_iter statistics drawn from the bootstrapped sampling distribution\n",
    "    \"\"\"\n",
    "    \n",
    "    sims = np.random.choice(list(game), size=(num_iter, len(game)))    \n",
    "    return pd.DataFrame(sims).apply(lambda x: ''.join(x), 1).pipe(calc_tk_stat, k)\n",
    "\n",
    "def tests(games, stat_function, num_iter=1, k=1):\n",
    "    \n",
    "    nulldists = games.apply(bootstrap_tk_stat, k=k, num_iter=num_iter)\n",
    "    observed_statistics = calc_tk_stat(games, k)\n",
    "    hasConditioningSet = observed_statistics.notna()\n",
    "\n",
    "    nulldists = nulldists[hasConditioningSet]\n",
    "    observed_statistics = observed_statistics[hasConditioningSet]\n",
    "    \n",
    "    p_values = calc_p_values(observed_statistics, nulldists)\n",
    "    \n",
    "    return {\n",
    "        'nulldists': nulldists,\n",
    "        'observed_statistics': observed_statistics,\n",
    "        'p_values': p_values,\n",
    "        'number_removed' : sum(~hasConditioningSet),\n",
    "        'number_sig': (p_values <= 0.05).sum()\n",
    "    }\n",
    "\n",
    "tests_k1 = tests(klay_data, calc_tk_stat, num_iter=10000, k=1)\n",
    "tests_k2 = tests(klay_data, calc_tk_stat, num_iter=10000, k=2)\n",
    "tests_k3 = tests(klay_data, calc_tk_stat, num_iter=10000, k=3)\n",
    "\n",
    "### END SOLUTION"
   ]
  },
  {
   "cell_type": "markdown",
   "metadata": {
    "nbgrader": {
     "grade": false,
     "grade_id": "cell-ca98ab8b4b8b877c",
     "locked": true,
     "schema_version": 2,
     "solution": false
    }
   },
   "source": [
    "## Synthesis\n",
    "\n",
    "Running the numerical computations in hypothesis testing is only part of the battle.  Convincing others of the validity of the analysis is just as if not more important.  Compile everything you have done/learned into a miniature report.  Describe how you used the Tversky statistic to test whether or not Klay Thompson has hot hands.  Your answer should follow the structure given below.  While we can provide you with an idea of items you should definitely include in such a report, you will need to supply the wording to concisely and convincingly tell the story.  \n",
    "\n",
    "**Note:** DO NOT copy this cell using command mode.  This will cause the autograder to fail on your notebook.  You may, however, double click on the cell and copy its text.\n",
    "\n",
    "**Data Generation Model**\n",
    "\n",
    "We modeled Klay Thompson's shot record for each game as sequences of `INSERT description of random variable` with the following assumptions\n",
    "\n",
    "* `INSERT Assumption 1`\n",
    "* ...\n",
    "\n",
    "We realize that this ignores the following real-life issues\n",
    "\n",
    "* `INSERT Issue 1`\n",
    "* ...\n",
    "\n",
    "However, this analysis can be used as a baseline that we can compare more complicated models to.\n",
    "\n",
    "**Null Hypothesis**\n",
    "\n",
    "Our null hypothesis is `INSERT null hypothesis in plain English`.  In terms of our model, this means that `INSERT mathematical implication of null hypothesis`.\n",
    "\n",
    "**Test Statistic**\n",
    "\n",
    "To test our hypothesis, we used the Tversky statistic, which can be interpreted as `INSERT plain English description in words`.  This can be written mathematically as:\n",
    "\n",
    "$$\\text{INSERT LaTeX statistic = function of data}$$\n",
    "\n",
    "**Results**\n",
    "\n",
    "Looking Klay's December 5th game against the Pacers, we calculated a p-value of `INSERT p-value` for $k=1$, which `CHOOSE ONE: is  or is not` significant at the 5% level.  This can be verified visually in the following plot.\n",
    "\n",
    "$$\\text{Insert plot of sampling distribution and observed statistic}$$\n",
    "\n",
    "We go on to analyze all of Thompson's games and find that `CHOOSE ONE: few or many` of the observations are significant at the 5% level for conditioning sets of length $k=1,2,3$.  The table below shows the number of observations that we discarded due to the statistic being undefined and the number that are significant at each conditioning length.\n",
    "\n",
    "Player | Number of Games | k | Number of Games Discarded | Number of Games Significant\n",
    "---      | --- | --- | ---                 | ---\n",
    "Thompson | 95  | 1   | `INSERT # Dropped for k=1` | `INSERT # Significant for k=1` \n",
    "         |  -  | 2   | `INSERT # Dropped for k=2` | `INSERT # Significant for k=2`\n",
    "         |  -  | 3   | `INSERT # Dropped for k=3` | `INSERT # Significant for k=3`\n"
   ]
  },
  {
   "cell_type": "markdown",
   "metadata": {
    "nbgrader": {
     "grade": false,
     "grade_id": "cell-e4dee906625481f9",
     "locked": true,
     "schema_version": 2,
     "solution": false
    }
   },
   "source": [
    "#### Data Generation Model \\[8pts\\]"
   ]
  },
  {
   "cell_type": "markdown",
   "metadata": {
    "nbgrader": {
     "grade": true,
     "grade_id": "cell-03b91c921cd52478",
     "locked": false,
     "points": 8,
     "schema_version": 2,
     "solution": true
    }
   },
   "source": [
    "We modeled Klay Thompson's shot record for each game as sequences of 0-1 random variables with the following assumptions\n",
    "\n",
    "* The player has probability $p$ of success normally and probability $q$ if he is on a streak\n",
    "* The player has a fixed number of shot opportunities per game\n",
    "\n",
    "We realize that this ignores the following real-life issues\n",
    "\n",
    "* Opposing defenders affect the difficulty of a shot\n",
    "* Distance affects the difficulty of a shot\n",
    "* Shot types vary in difficulty (3-pointers, 2-points, free-throws)\n",
    "* Team mate behavior may create more favorable scoring conditions\n",
    "\n",
    "However, this analysis can be used as a baseline that we can compare more complicated models to.\n",
    "\n",
    "Points | Description\n",
    "---    | ---\n",
    "1      | Mentions a binary RV (0/1, Bernoulli, etc)\n",
    "2      | Mentions that there are two probabilities involved.  They need not be named $p$ and $q$\n",
    "2      | Mentions that the number of shots in a game are fixed\n",
    "1      | Lists issues that we ignore (can be copied from the assignment)\n",
    "2      | Does not make incorrect assumptions (e.g. that the shots are independent)\n"
   ]
  },
  {
   "cell_type": "markdown",
   "metadata": {
    "nbgrader": {
     "grade": false,
     "grade_id": "cell-122ac4a95e91b9df",
     "locked": true,
     "schema_version": 2,
     "solution": false
    }
   },
   "source": [
    "#### Null Hypothesis \\[5pts\\]"
   ]
  },
  {
   "cell_type": "markdown",
   "metadata": {
    "nbgrader": {
     "grade": true,
     "grade_id": "cell-9a9e40d64c9fc393",
     "locked": false,
     "points": 5,
     "schema_version": 2,
     "solution": true
    }
   },
   "source": [
    "Our null hypothesis is that hot hands do not exist.  In terms of our model, this means that $p=q$ (the probability of making a hot-hand shot is the same as making a normal shot i.e. there is only 1 probability).\n",
    "\n",
    "Points | Description\n",
    "---    | ---\n",
    "2      | States that the null is that hot hands does not exist\n",
    "3      | States that the two probabilities are the same.  See answer for some example wording."
   ]
  },
  {
   "cell_type": "markdown",
   "metadata": {
    "nbgrader": {
     "grade": false,
     "grade_id": "cell-b7078b2962a34f02",
     "locked": true,
     "schema_version": 2,
     "solution": false
    }
   },
   "source": [
    "#### Test Statistic \\[2pts\\]"
   ]
  },
  {
   "cell_type": "markdown",
   "metadata": {
    "nbgrader": {
     "grade": true,
     "grade_id": "cell-2a3d24937ac712d1",
     "locked": false,
     "points": 2,
     "schema_version": 2,
     "solution": true
    }
   },
   "source": [
    "To test our hypothesis, we used the Tversky statistic, which can be interpreted as the difference between the observed proportions of make-streak continuations and miss-streak reversals.  This can be written mathematically (in terms of counts) as:\n",
    "\n",
    "$$T_k = T_{k, make} - T_{k, miss}$$\n",
    "\n",
    "where\n",
    "\n",
    "$$\n",
    "  T_{k, make}\n",
    "  = \\frac{\\#\\{\\text{Streaks of $k+1$ makes in a row}\\}}{\\#\\{\\text{Streaks of $k$ makes in a row preceeding an attempt}\\}}\n",
    "$$\n",
    "\n",
    "and\n",
    "\n",
    "$$\n",
    "  T_{k, miss}\n",
    "  = \\frac{\\#\\{\\text{Streaks of $k$ misses followed by make}\\}}{\\#\\{\\text{Streaks of $k$ misses in a row preceeding an attempt}\\}}\n",
    "$$\n",
    "\n",
    "Points | Description\n",
    "--- | ---\n",
    "1   | Describes the Tversky statistic as a difference in observed proportions/probabilities\n",
    "1   | Correctly provides a LaTeXed definition of $T_k$\n"
   ]
  },
  {
   "cell_type": "markdown",
   "metadata": {
    "nbgrader": {
     "grade": false,
     "grade_id": "cell-d4abca2fe9df77d2",
     "locked": true,
     "schema_version": 2,
     "solution": false
    }
   },
   "source": [
    "#### Results \\[20pts\\]"
   ]
  },
  {
   "cell_type": "markdown",
   "metadata": {
    "nbgrader": {
     "grade": true,
     "grade_id": "cell-8b1a609ca9864001",
     "locked": false,
     "points": 3,
     "schema_version": 2,
     "solution": true
    }
   },
   "source": [
    "Looking Klay's December 5th game against the Pacers, we calculated a p-value of 0.90 for $k=1$, which is not significant at the 5% level.  This can be verified visually in the following plot.\n",
    "\n",
    "Points | Description\n",
    "--- | ---\n",
    "1   | p-value is $0.90 \\pm 0.02$\n",
    "2   | Does not reject null"
   ]
  },
  {
   "cell_type": "code",
   "execution_count": 49,
   "metadata": {
    "nbgrader": {
     "grade": true,
     "grade_id": "cell-367db71b8f8a552c",
     "locked": false,
     "points": 5,
     "schema_version": 2,
     "solution": true
    }
   },
   "outputs": [
    {
     "data": {
      "image/png": "[encoded data removed]",
      "text/plain": [
       "<matplotlib.figure.Figure at 0x7f39a456a240>"
      ]
     },
     "metadata": {},
     "output_type": "display_data"
    }
   ],
   "source": [
    "# Plotting Code\n",
    "\n",
    "### BEGIN SOLUTION\n",
    "\n",
    "# Points | Description\n",
    "# ---    | ---\n",
    "# 1      | Plot has correctly labelled axes\n",
    "# 2      | Observed value is plotted\n",
    "# 2      | Sampling distribution has roughly \n",
    "#          the right shape (not centered at 0)\n",
    "\n",
    "sims = tests_k1['nulldists'].loc['201612050GSW']\n",
    "obs = tests_k1['observed_statistics'].loc['201612050GSW']\n",
    "pv = tests_k1['p_values'].loc['201612050GSW'][0]\n",
    "simprobs = sims.squeeze().dropna().value_counts(normalize=True)\n",
    "plt.vlines(simprobs.index, 0, simprobs, lw=1)\n",
    "plt.ylim(0, 0.027)\n",
    "plt.xticks(np.arange(-.5, .6, .1))\n",
    "plt.xlabel(r'$T_1$')\n",
    "plt.ylabel('Probability')\n",
    "plt.title(f'Bootstrapped Sampling Distribution\\np={pv}')\n",
    "plt.axvline(x=obs[0], ls='--', color='red');\n",
    "### END SOLUTION"
   ]
  },
  {
   "cell_type": "markdown",
   "metadata": {
    "nbgrader": {
     "grade": true,
     "grade_id": "cell-607df58ae57d4b8f",
     "locked": false,
     "points": 0,
     "schema_version": 2,
     "solution": true
    }
   },
   "source": [
    "We go on to analyze all of Thompson's games and find that few of the observations are significant at the 5% level for conditioning sets of length $k=1,2,3$.  The table below shows the number of observations that we discarded due to the statistic being undefined and the number that are significant at each conditioning length.\n",
    "\n",
    "Player   | Number of Games | k   | Number of Games Discarded | Number of Games Significant\n",
    "---      | ---             | --- | ---                       | ---\n",
    "Thompson | 95              | 1   | 0                         | 5 \n",
    "         |  -              | 2   | 3                         | 4\n",
    "         |  -              | 3   | 42                        | 2"
   ]
  },
  {
   "cell_type": "markdown",
   "metadata": {
    "nbgrader": {
     "grade": false,
     "grade_id": "cell-816bf2b33d39650b",
     "locked": true,
     "schema_version": 2,
     "solution": false
    }
   },
   "source": [
    "In order to quickly grade your table, we ask that you include the values of the table in the cell below.  `n_discarded_k*` is the number of discarded observations due to undefined statistics, and `n_sig_k*` is the number of significant observations where `*` is the length of the conditioning set."
   ]
  },
  {
   "cell_type": "code",
   "execution_count": 51,
   "metadata": {
    "nbgrader": {
     "grade": false,
     "grade_id": "cell-07aa7625ca78e559",
     "locked": false,
     "schema_version": 2,
     "solution": true
    }
   },
   "outputs": [],
   "source": [
    "n_discarded_k1 = ...\n",
    "n_discarded_k2 = ...\n",
    "n_discarded_k3 = ...\n",
    "n_sig_k1 = ...\n",
    "n_sig_k2 = ...\n",
    "n_sig_k3 = ...\n",
    "\n",
    "### BEGIN SOLUTION\n",
    "n_discarded_k1 = tests_k1['number_removed']\n",
    "n_discarded_k2 = tests_k2['number_removed']\n",
    "n_discarded_k3 = tests_k3['number_removed']\n",
    "n_sig_k1 = tests_k1['number_sig']\n",
    "n_sig_k2 = tests_k2['number_sig']\n",
    "n_sig_k3 = tests_k3['number_sig']\n",
    "### END SOLUTION"
   ]
  },
  {
   "cell_type": "code",
   "execution_count": 52,
   "metadata": {
    "nbgrader": {
     "grade": true,
     "grade_id": "cell-ca0c846921cea94f",
     "locked": true,
     "points": 5,
     "schema_version": 2,
     "solution": false
    }
   },
   "outputs": [],
   "source": [
    "# No moleste\n",
    "### BEGIN HIDDEN TESTS\n",
    "assert n_discarded_k1 == 0\n",
    "assert n_discarded_k2 == 3\n",
    "assert n_discarded_k3 == 42\n",
    "### END HIDDEN TESTS"
   ]
  },
  {
   "cell_type": "code",
   "execution_count": 53,
   "metadata": {
    "nbgrader": {
     "grade": true,
     "grade_id": "cell-f0aed40c45906045",
     "locked": true,
     "points": 7,
     "schema_version": 2,
     "solution": false
    }
   },
   "outputs": [],
   "source": [
    "# Yeah I'm empty.  Wanna fight?\n",
    "### BEGIN HIDDEN TESTS\n",
    "# Assuming correct bootstrap implementation,\n",
    "# Probability of failing test is upper bounded at 1e-8\n",
    "assert 4 <= n_sig_k1 <= 6\n",
    "assert 3 <= n_sig_k2 <= 5\n",
    "assert 1 <= n_sig_k3 <= 3\n",
    "### END HIDDEN TESTS"
   ]
  },
  {
   "cell_type": "markdown",
   "metadata": {
    "nbgrader": {
     "grade": false,
     "grade_id": "cell-747bfdab54e92179",
     "locked": true,
     "schema_version": 2,
     "solution": false
    }
   },
   "source": [
    "## Further Reading\n",
    "\n",
    "__ESPN reports on this type of analysis__  \n",
    "_Haberstroh (2017)_.  \"He's heating up, he's on fire! Klay Thompson and the truth about the hot hand\".  http://www.espn.com/nba/story/_/page/presents-19573519/heating-fire-klay-thompson-truth-hot-hand-nba\n",
    "\n",
    "__PDFs included in this homework folder__  \n",
    "_Daks, Desai, Goldberg (2018)_. \"Do the GSW Have Hot Hands?\"  \n",
    "_Miller, Sanjurjo (2015)_. \"Surprised by the Gambler's and Hot Hand Fallacies? A Truth in the Law of Small Numbers\"\n",
    "\n",
    "We thank Alon Daks, Nishant Desai, Lisa Goldberg, and Alex Papanicolaou for their contributions and suggestions in making this homework."
   ]
  }
 ],
 "metadata": {
  "celltoolbar": "Create Assignment",
  "kernelspec": {
   "display_name": "Python 3",
   "language": "python",
   "name": "python3"
  },
  "language_info": {
   "codemirror_mode": {
    "name": "ipython",
    "version": 3
   },
   "file_extension": ".py",
   "mimetype": "text/x-python",
   "name": "python",
   "nbconvert_exporter": "python",
   "pygments_lexer": "ipython3",
   "version": "3.6.4"
  },
  "toc": {
   "nav_menu": {},
   "number_sections": false,
   "sideBar": true,
   "skip_h1_title": false,
   "title_cell": "Table of Contents",
   "title_sidebar": "Contents",
   "toc_cell": true,
   "toc_position": {
    "height": "calc(100% - 180px)",
    "left": "10px",
    "top": "150px",
    "width": "229px"
   },
   "toc_section_display": true,
   "toc_window_display": true
  }
 },
 "nbformat": 4,
 "nbformat_minor": 2
}
